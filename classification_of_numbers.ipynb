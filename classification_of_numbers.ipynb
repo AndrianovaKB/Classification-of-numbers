{
  "nbformat": 4,
  "nbformat_minor": 0,
  "metadata": {
    "colab": {
      "provenance": [],
      "gpuType": "T4"
    },
    "kernelspec": {
      "name": "python3",
      "display_name": "Python 3"
    },
    "language_info": {
      "name": "python"
    },
    "accelerator": "GPU"
  },
  "cells": [
    {
      "cell_type": "code",
      "execution_count": null,
      "metadata": {
        "id": "xwNE7zcCDC23"
      },
      "outputs": [],
      "source": [
        "import os\n",
        "os.chdir('/content/drive/MyDrive/Colab Notebooks')\n",
        "\n",
        "# импорт модулей\n",
        "from tensorflow import keras\n",
        "import matplotlib.pyplot as plt\n",
        "import numpy as np\n",
        "import sklearn"
      ]
    },
    {
      "cell_type": "code",
      "source": [
        "# загрузка датасета\n",
        "from keras.datasets import mnist\n",
        "(X_train, y_train), (X_test, y_test) = mnist.load_data()"
      ],
      "metadata": {
        "id": "BkZX3l2vDdOt"
      },
      "execution_count": null,
      "outputs": []
    },
    {
      "cell_type": "code",
      "source": [
        "# создание своего разбиения датасета\n",
        "from sklearn.model_selection import train_test_split\n",
        "# объединяем в один набор\n",
        "X = np.concatenate((X_train, X_test))\n",
        "y = np.concatenate((y_train, y_test))\n",
        "# разбиваем по вариантам\n",
        "X_train, X_test, y_train, y_test = train_test_split(X, y,\n",
        " test_size = 10000,\n",
        " train_size = 60000,\n",
        " random_state = 3)\n",
        "\n",
        "# вывод размерностей\n",
        "print('Shape of X train:', X_train.shape)\n",
        "print('Shape of y train:', y_train.shape)\n",
        "\n",
        "# вывод изображения\n",
        "plt.imshow(X_train[123], cmap=plt.get_cmap('gray'))\n",
        "plt.show()\n",
        "# вывод метки для этого изображения\n",
        "print(y_train[123])\n",
        "\n",
        "# развернем каждое изображение 28*28 в вектор 784\n",
        "num_pixels = X_train.shape[1] * X_train.shape[2]\n",
        "X_train = X_train.reshape(X_train.shape[0], num_pixels) / 255\n",
        "X_test = X_test.reshape(X_test.shape[0], num_pixels) / 255\n",
        "print('Shape of transformed X train:', X_train.shape)"
      ],
      "metadata": {
        "colab": {
          "base_uri": "https://localhost:8080/",
          "height": 501
        },
        "id": "jtz4uow6DoRU",
        "outputId": "674d6b74-3cb6-4c99-e405-9cf83c0a2b11"
      },
      "execution_count": null,
      "outputs": [
        {
          "output_type": "stream",
          "name": "stdout",
          "text": [
            "Shape of X train: (60000, 28, 28)\n",
            "Shape of y train: (60000,)\n"
          ]
        },
        {
          "output_type": "display_data",
          "data": {
            "text/plain": [
              "<Figure size 640x480 with 1 Axes>"
            ],
            "image/png": "[encoded data removed]"
          },
          "metadata": {}
        },
        {
          "output_type": "stream",
          "name": "stdout",
          "text": [
            "0\n",
            "Shape of transformed X train: (60000, 784)\n"
          ]
        }
      ]
    },
    {
      "cell_type": "code",
      "source": [
        "# переведем метки в one-hot\n",
        "from keras.utils import to_categorical\n",
        "y_train = to_categorical(y_train)\n",
        "y_test = to_categorical(y_test)\n",
        "print('Shape of transformed y train:', y_train.shape)\n",
        "num_classes = y_train.shape[1]\n"
      ],
      "metadata": {
        "colab": {
          "base_uri": "https://localhost:8080/"
        },
        "id": "aaeG0GV_DvE8",
        "outputId": "76976e8a-4fed-46e1-846f-53f589adf9de"
      },
      "execution_count": null,
      "outputs": [
        {
          "output_type": "stream",
          "name": "stdout",
          "text": [
            "Shape of transformed y train: (60000, 10)\n"
          ]
        }
      ]
    },
    {
      "cell_type": "code",
      "source": [
        "from keras.models import Sequential\n",
        "from keras.layers import Dense"
      ],
      "metadata": {
        "id": "kC7BH607E3rG"
      },
      "execution_count": null,
      "outputs": []
    },
    {
      "cell_type": "code",
      "source": [
        "# 1. создаем модель - объявляем ее объектом класса Sequential\n",
        "model_1 = Sequential()\n",
        "# 2. добавляем первый скрытый слой\n",
        "model_1.add(Dense(units=num_classes, input_dim=num_pixels, activation='softmax'))\n",
        "# 3. компилируем модель\n",
        "model_1.compile(loss='categorical_crossentropy', optimizer='sgd', metrics=['accuracy'])\n"
      ],
      "metadata": {
        "id": "OigYwoklE7Rc"
      },
      "execution_count": null,
      "outputs": []
    },
    {
      "cell_type": "code",
      "source": [
        "model_2 = Sequential()\n",
        "model_2.add(Dense(units=100, input_dim=num_pixels, activation='sigmoid'))\n",
        "model_2.add(Dense(units=10, activation='softmax'))\n",
        "model_2.compile(loss='categorical_crossentropy', optimizer='sgd', metrics=['accuracy'])"
      ],
      "metadata": {
        "id": "FlhyGMX_F6-O"
      },
      "execution_count": null,
      "outputs": []
    },
    {
      "cell_type": "code",
      "source": [
        "model_3 = Sequential()\n",
        "model_3.add(Dense(units=300, input_dim=num_pixels, activation='sigmoid'))\n",
        "model_3.add(Dense(units=10, activation='softmax'))\n",
        "model_3.compile(loss='categorical_crossentropy', optimizer='sgd', metrics=['accuracy'])"
      ],
      "metadata": {
        "id": "msPbhePBH0G1"
      },
      "execution_count": null,
      "outputs": []
    },
    {
      "cell_type": "code",
      "source": [
        "model_4 = Sequential()\n",
        "model_4.add(Dense(units=500, input_dim=num_pixels, activation='sigmoid'))\n",
        "model_4.add(Dense(units=10, activation='softmax'))\n",
        "model_4.compile(loss='categorical_crossentropy', optimizer='sgd', metrics=['accuracy'])"
      ],
      "metadata": {
        "id": "-he7co1RIJlu"
      },
      "execution_count": null,
      "outputs": []
    },
    {
      "cell_type": "code",
      "source": [
        "model_5 = Sequential()\n",
        "model_5.add(Dense(units=1000, input_dim=num_pixels, activation='sigmoid'))\n",
        "model_5.add(Dense(units=10, activation='softmax'))\n",
        "model_5.compile(loss='categorical_crossentropy', optimizer='sgd', metrics=['accuracy'])"
      ],
      "metadata": {
        "id": "WhHRBae5ISs0"
      },
      "execution_count": null,
      "outputs": []
    },
    {
      "cell_type": "code",
      "source": [
        "# вывод информации об архитектуре модели\n",
        "print(model_1.summary())\n"
      ],
      "metadata": {
        "colab": {
          "base_uri": "https://localhost:8080/"
        },
        "id": "7UN0rc0kIe8r",
        "outputId": "45c1db3f-ce15-4b5b-e6c4-2d3f22289732"
      },
      "execution_count": null,
      "outputs": [
        {
          "output_type": "stream",
          "name": "stdout",
          "text": [
            "Model: \"sequential_9\"\n",
            "_________________________________________________________________\n",
            " Layer (type)                Output Shape              Param #   \n",
            "=================================================================\n",
            " dense_17 (Dense)            (None, 10)                7850      \n",
            "                                                                 \n",
            "=================================================================\n",
            "Total params: 7850 (30.66 KB)\n",
            "Trainable params: 7850 (30.66 KB)\n",
            "Non-trainable params: 0 (0.00 Byte)\n",
            "_________________________________________________________________\n",
            "None\n"
          ]
        }
      ]
    },
    {
      "cell_type": "code",
      "source": [
        "# Обучаем модель\n",
        "H = model_1.fit(X_train, y_train, validation_split=0.1, epochs=100, batch_size = 512)\n"
      ],
      "metadata": {
        "colab": {
          "base_uri": "https://localhost:8080/"
        },
        "id": "3pSMMA6oImhz",
        "outputId": "ae1efb5d-b4ce-40e4-ce83-d6211466282c"
      },
      "execution_count": null,
      "outputs": [
        {
          "output_type": "stream",
          "name": "stdout",
          "text": [
            "Epoch 1/100\n",
            "106/106 [==============================] - 1s 6ms/step - loss: 1.9250 - accuracy: 0.4185 - val_loss: 1.5678 - val_accuracy: 0.6713\n",
            "Epoch 2/100\n",
            "106/106 [==============================] - 0s 4ms/step - loss: 1.3470 - accuracy: 0.7328 - val_loss: 1.1939 - val_accuracy: 0.7633\n",
            "Epoch 3/100\n",
            "106/106 [==============================] - 0s 4ms/step - loss: 1.0723 - accuracy: 0.7896 - val_loss: 0.9973 - val_accuracy: 0.7953\n",
            "Epoch 4/100\n",
            "106/106 [==============================] - 0s 4ms/step - loss: 0.9187 - accuracy: 0.8134 - val_loss: 0.8780 - val_accuracy: 0.8167\n",
            "Epoch 5/100\n",
            "106/106 [==============================] - 0s 4ms/step - loss: 0.8214 - accuracy: 0.8280 - val_loss: 0.7983 - val_accuracy: 0.8287\n",
            "Epoch 6/100\n",
            "106/106 [==============================] - 1s 5ms/step - loss: 0.7538 - accuracy: 0.8370 - val_loss: 0.7406 - val_accuracy: 0.8383\n",
            "Epoch 7/100\n",
            "106/106 [==============================] - 1s 5ms/step - loss: 0.7040 - accuracy: 0.8445 - val_loss: 0.6969 - val_accuracy: 0.8443\n",
            "Epoch 8/100\n",
            "106/106 [==============================] - 1s 5ms/step - loss: 0.6655 - accuracy: 0.8493 - val_loss: 0.6624 - val_accuracy: 0.8487\n",
            "Epoch 9/100\n",
            "106/106 [==============================] - 1s 6ms/step - loss: 0.6348 - accuracy: 0.8540 - val_loss: 0.6347 - val_accuracy: 0.8532\n",
            "Epoch 10/100\n",
            "106/106 [==============================] - 1s 5ms/step - loss: 0.6096 - accuracy: 0.8569 - val_loss: 0.6113 - val_accuracy: 0.8565\n",
            "Epoch 11/100\n",
            "106/106 [==============================] - 1s 5ms/step - loss: 0.5884 - accuracy: 0.8600 - val_loss: 0.5918 - val_accuracy: 0.8588\n",
            "Epoch 12/100\n",
            "106/106 [==============================] - 1s 5ms/step - loss: 0.5704 - accuracy: 0.8621 - val_loss: 0.5747 - val_accuracy: 0.8615\n",
            "Epoch 13/100\n",
            "106/106 [==============================] - 0s 4ms/step - loss: 0.5549 - accuracy: 0.8649 - val_loss: 0.5601 - val_accuracy: 0.8643\n",
            "Epoch 14/100\n",
            "106/106 [==============================] - 0s 4ms/step - loss: 0.5413 - accuracy: 0.8673 - val_loss: 0.5470 - val_accuracy: 0.8672\n",
            "Epoch 15/100\n",
            "106/106 [==============================] - 0s 4ms/step - loss: 0.5292 - accuracy: 0.8696 - val_loss: 0.5357 - val_accuracy: 0.8690\n",
            "Epoch 16/100\n",
            "106/106 [==============================] - 0s 4ms/step - loss: 0.5185 - accuracy: 0.8714 - val_loss: 0.5255 - val_accuracy: 0.8708\n",
            "Epoch 17/100\n",
            "106/106 [==============================] - 0s 4ms/step - loss: 0.5089 - accuracy: 0.8731 - val_loss: 0.5161 - val_accuracy: 0.8737\n",
            "Epoch 18/100\n",
            "106/106 [==============================] - 0s 4ms/step - loss: 0.5001 - accuracy: 0.8744 - val_loss: 0.5077 - val_accuracy: 0.8743\n",
            "Epoch 19/100\n",
            "106/106 [==============================] - 0s 4ms/step - loss: 0.4922 - accuracy: 0.8758 - val_loss: 0.5000 - val_accuracy: 0.8755\n",
            "Epoch 20/100\n",
            "106/106 [==============================] - 0s 4ms/step - loss: 0.4849 - accuracy: 0.8770 - val_loss: 0.4930 - val_accuracy: 0.8762\n",
            "Epoch 21/100\n",
            "106/106 [==============================] - 0s 4ms/step - loss: 0.4782 - accuracy: 0.8782 - val_loss: 0.4865 - val_accuracy: 0.8767\n",
            "Epoch 22/100\n",
            "106/106 [==============================] - 0s 4ms/step - loss: 0.4721 - accuracy: 0.8792 - val_loss: 0.4804 - val_accuracy: 0.8773\n",
            "Epoch 23/100\n",
            "106/106 [==============================] - 0s 4ms/step - loss: 0.4664 - accuracy: 0.8796 - val_loss: 0.4747 - val_accuracy: 0.8780\n",
            "Epoch 24/100\n",
            "106/106 [==============================] - 0s 4ms/step - loss: 0.4610 - accuracy: 0.8804 - val_loss: 0.4696 - val_accuracy: 0.8780\n",
            "Epoch 25/100\n",
            "106/106 [==============================] - 0s 4ms/step - loss: 0.4561 - accuracy: 0.8815 - val_loss: 0.4647 - val_accuracy: 0.8782\n",
            "Epoch 26/100\n",
            "106/106 [==============================] - 0s 4ms/step - loss: 0.4514 - accuracy: 0.8823 - val_loss: 0.4601 - val_accuracy: 0.8797\n",
            "Epoch 27/100\n",
            "106/106 [==============================] - 0s 4ms/step - loss: 0.4471 - accuracy: 0.8831 - val_loss: 0.4559 - val_accuracy: 0.8807\n",
            "Epoch 28/100\n",
            "106/106 [==============================] - 0s 4ms/step - loss: 0.4429 - accuracy: 0.8841 - val_loss: 0.4518 - val_accuracy: 0.8825\n",
            "Epoch 29/100\n",
            "106/106 [==============================] - 0s 4ms/step - loss: 0.4391 - accuracy: 0.8851 - val_loss: 0.4479 - val_accuracy: 0.8835\n",
            "Epoch 30/100\n",
            "106/106 [==============================] - 0s 4ms/step - loss: 0.4354 - accuracy: 0.8858 - val_loss: 0.4444 - val_accuracy: 0.8837\n",
            "Epoch 31/100\n",
            "106/106 [==============================] - 0s 4ms/step - loss: 0.4319 - accuracy: 0.8863 - val_loss: 0.4409 - val_accuracy: 0.8845\n",
            "Epoch 32/100\n",
            "106/106 [==============================] - 0s 4ms/step - loss: 0.4287 - accuracy: 0.8870 - val_loss: 0.4376 - val_accuracy: 0.8845\n",
            "Epoch 33/100\n",
            "106/106 [==============================] - 0s 4ms/step - loss: 0.4255 - accuracy: 0.8878 - val_loss: 0.4344 - val_accuracy: 0.8848\n",
            "Epoch 34/100\n",
            "106/106 [==============================] - 0s 4ms/step - loss: 0.4225 - accuracy: 0.8879 - val_loss: 0.4315 - val_accuracy: 0.8862\n",
            "Epoch 35/100\n",
            "106/106 [==============================] - 0s 4ms/step - loss: 0.4197 - accuracy: 0.8886 - val_loss: 0.4287 - val_accuracy: 0.8870\n",
            "Epoch 36/100\n",
            "106/106 [==============================] - 1s 6ms/step - loss: 0.4170 - accuracy: 0.8891 - val_loss: 0.4261 - val_accuracy: 0.8873\n",
            "Epoch 37/100\n",
            "106/106 [==============================] - 1s 5ms/step - loss: 0.4144 - accuracy: 0.8895 - val_loss: 0.4234 - val_accuracy: 0.8882\n",
            "Epoch 38/100\n",
            "106/106 [==============================] - 1s 5ms/step - loss: 0.4119 - accuracy: 0.8901 - val_loss: 0.4209 - val_accuracy: 0.8887\n",
            "Epoch 39/100\n",
            "106/106 [==============================] - 1s 5ms/step - loss: 0.4095 - accuracy: 0.8905 - val_loss: 0.4185 - val_accuracy: 0.8883\n",
            "Epoch 40/100\n",
            "106/106 [==============================] - 1s 5ms/step - loss: 0.4072 - accuracy: 0.8909 - val_loss: 0.4163 - val_accuracy: 0.8888\n",
            "Epoch 41/100\n",
            "106/106 [==============================] - 1s 6ms/step - loss: 0.4050 - accuracy: 0.8913 - val_loss: 0.4143 - val_accuracy: 0.8893\n",
            "Epoch 42/100\n",
            "106/106 [==============================] - 1s 5ms/step - loss: 0.4029 - accuracy: 0.8916 - val_loss: 0.4120 - val_accuracy: 0.8895\n",
            "Epoch 43/100\n",
            "106/106 [==============================] - 0s 4ms/step - loss: 0.4009 - accuracy: 0.8920 - val_loss: 0.4099 - val_accuracy: 0.8898\n",
            "Epoch 44/100\n",
            "106/106 [==============================] - 0s 4ms/step - loss: 0.3989 - accuracy: 0.8925 - val_loss: 0.4079 - val_accuracy: 0.8903\n",
            "Epoch 45/100\n",
            "106/106 [==============================] - 0s 4ms/step - loss: 0.3970 - accuracy: 0.8928 - val_loss: 0.4060 - val_accuracy: 0.8908\n",
            "Epoch 46/100\n",
            "106/106 [==============================] - 0s 4ms/step - loss: 0.3952 - accuracy: 0.8933 - val_loss: 0.4042 - val_accuracy: 0.8907\n",
            "Epoch 47/100\n",
            "106/106 [==============================] - 0s 4ms/step - loss: 0.3934 - accuracy: 0.8938 - val_loss: 0.4025 - val_accuracy: 0.8917\n",
            "Epoch 48/100\n",
            "106/106 [==============================] - 0s 4ms/step - loss: 0.3917 - accuracy: 0.8940 - val_loss: 0.4007 - val_accuracy: 0.8920\n",
            "Epoch 49/100\n",
            "106/106 [==============================] - 0s 4ms/step - loss: 0.3900 - accuracy: 0.8944 - val_loss: 0.3991 - val_accuracy: 0.8920\n",
            "Epoch 50/100\n",
            "106/106 [==============================] - 0s 4ms/step - loss: 0.3884 - accuracy: 0.8948 - val_loss: 0.3976 - val_accuracy: 0.8927\n",
            "Epoch 51/100\n",
            "106/106 [==============================] - 0s 5ms/step - loss: 0.3869 - accuracy: 0.8952 - val_loss: 0.3960 - val_accuracy: 0.8930\n",
            "Epoch 52/100\n",
            "106/106 [==============================] - 0s 4ms/step - loss: 0.3853 - accuracy: 0.8952 - val_loss: 0.3946 - val_accuracy: 0.8933\n",
            "Epoch 53/100\n",
            "106/106 [==============================] - 0s 4ms/step - loss: 0.3839 - accuracy: 0.8955 - val_loss: 0.3930 - val_accuracy: 0.8935\n",
            "Epoch 54/100\n",
            "106/106 [==============================] - 0s 4ms/step - loss: 0.3825 - accuracy: 0.8958 - val_loss: 0.3917 - val_accuracy: 0.8933\n",
            "Epoch 55/100\n",
            "106/106 [==============================] - 0s 4ms/step - loss: 0.3811 - accuracy: 0.8965 - val_loss: 0.3902 - val_accuracy: 0.8943\n",
            "Epoch 56/100\n",
            "106/106 [==============================] - 0s 4ms/step - loss: 0.3797 - accuracy: 0.8965 - val_loss: 0.3889 - val_accuracy: 0.8948\n",
            "Epoch 57/100\n",
            "106/106 [==============================] - 0s 4ms/step - loss: 0.3784 - accuracy: 0.8968 - val_loss: 0.3876 - val_accuracy: 0.8952\n",
            "Epoch 58/100\n",
            "106/106 [==============================] - 0s 4ms/step - loss: 0.3772 - accuracy: 0.8972 - val_loss: 0.3863 - val_accuracy: 0.8958\n",
            "Epoch 59/100\n",
            "106/106 [==============================] - 0s 4ms/step - loss: 0.3759 - accuracy: 0.8974 - val_loss: 0.3851 - val_accuracy: 0.8963\n",
            "Epoch 60/100\n",
            "106/106 [==============================] - 0s 4ms/step - loss: 0.3747 - accuracy: 0.8979 - val_loss: 0.3839 - val_accuracy: 0.8963\n",
            "Epoch 61/100\n",
            "106/106 [==============================] - 0s 4ms/step - loss: 0.3735 - accuracy: 0.8983 - val_loss: 0.3827 - val_accuracy: 0.8963\n",
            "Epoch 62/100\n",
            "106/106 [==============================] - 0s 4ms/step - loss: 0.3724 - accuracy: 0.8984 - val_loss: 0.3814 - val_accuracy: 0.8960\n",
            "Epoch 63/100\n",
            "106/106 [==============================] - 0s 4ms/step - loss: 0.3713 - accuracy: 0.8987 - val_loss: 0.3804 - val_accuracy: 0.8962\n",
            "Epoch 64/100\n",
            "106/106 [==============================] - 0s 4ms/step - loss: 0.3702 - accuracy: 0.8990 - val_loss: 0.3793 - val_accuracy: 0.8967\n",
            "Epoch 65/100\n",
            "106/106 [==============================] - 1s 6ms/step - loss: 0.3691 - accuracy: 0.8992 - val_loss: 0.3783 - val_accuracy: 0.8965\n",
            "Epoch 66/100\n",
            "106/106 [==============================] - 1s 5ms/step - loss: 0.3681 - accuracy: 0.8997 - val_loss: 0.3772 - val_accuracy: 0.8967\n",
            "Epoch 67/100\n",
            "106/106 [==============================] - 1s 6ms/step - loss: 0.3671 - accuracy: 0.9000 - val_loss: 0.3762 - val_accuracy: 0.8967\n",
            "Epoch 68/100\n",
            "106/106 [==============================] - 1s 5ms/step - loss: 0.3661 - accuracy: 0.9002 - val_loss: 0.3752 - val_accuracy: 0.8970\n",
            "Epoch 69/100\n",
            "106/106 [==============================] - 1s 5ms/step - loss: 0.3651 - accuracy: 0.9004 - val_loss: 0.3742 - val_accuracy: 0.8968\n",
            "Epoch 70/100\n",
            "106/106 [==============================] - 1s 5ms/step - loss: 0.3641 - accuracy: 0.9007 - val_loss: 0.3733 - val_accuracy: 0.8970\n",
            "Epoch 71/100\n",
            "106/106 [==============================] - 1s 5ms/step - loss: 0.3632 - accuracy: 0.9007 - val_loss: 0.3724 - val_accuracy: 0.8970\n",
            "Epoch 72/100\n",
            "106/106 [==============================] - 0s 4ms/step - loss: 0.3623 - accuracy: 0.9010 - val_loss: 0.3716 - val_accuracy: 0.8973\n",
            "Epoch 73/100\n",
            "106/106 [==============================] - 0s 4ms/step - loss: 0.3614 - accuracy: 0.9013 - val_loss: 0.3707 - val_accuracy: 0.8973\n",
            "Epoch 74/100\n",
            "106/106 [==============================] - 0s 4ms/step - loss: 0.3605 - accuracy: 0.9013 - val_loss: 0.3698 - val_accuracy: 0.8973\n",
            "Epoch 75/100\n",
            "106/106 [==============================] - 0s 4ms/step - loss: 0.3597 - accuracy: 0.9015 - val_loss: 0.3689 - val_accuracy: 0.8977\n",
            "Epoch 76/100\n",
            "106/106 [==============================] - 0s 4ms/step - loss: 0.3588 - accuracy: 0.9016 - val_loss: 0.3680 - val_accuracy: 0.8983\n",
            "Epoch 77/100\n",
            "106/106 [==============================] - 0s 4ms/step - loss: 0.3580 - accuracy: 0.9020 - val_loss: 0.3673 - val_accuracy: 0.8975\n",
            "Epoch 78/100\n",
            "106/106 [==============================] - 0s 4ms/step - loss: 0.3572 - accuracy: 0.9020 - val_loss: 0.3665 - val_accuracy: 0.8980\n",
            "Epoch 79/100\n",
            "106/106 [==============================] - 0s 4ms/step - loss: 0.3564 - accuracy: 0.9023 - val_loss: 0.3656 - val_accuracy: 0.8983\n",
            "Epoch 80/100\n",
            "106/106 [==============================] - 0s 4ms/step - loss: 0.3556 - accuracy: 0.9023 - val_loss: 0.3649 - val_accuracy: 0.8983\n",
            "Epoch 81/100\n",
            "106/106 [==============================] - 0s 4ms/step - loss: 0.3549 - accuracy: 0.9026 - val_loss: 0.3642 - val_accuracy: 0.8987\n",
            "Epoch 82/100\n",
            "106/106 [==============================] - 0s 4ms/step - loss: 0.3541 - accuracy: 0.9028 - val_loss: 0.3634 - val_accuracy: 0.8988\n",
            "Epoch 83/100\n",
            "106/106 [==============================] - 0s 4ms/step - loss: 0.3534 - accuracy: 0.9029 - val_loss: 0.3626 - val_accuracy: 0.8992\n",
            "Epoch 84/100\n",
            "106/106 [==============================] - 0s 4ms/step - loss: 0.3527 - accuracy: 0.9030 - val_loss: 0.3620 - val_accuracy: 0.8990\n",
            "Epoch 85/100\n",
            "106/106 [==============================] - 0s 4ms/step - loss: 0.3520 - accuracy: 0.9033 - val_loss: 0.3613 - val_accuracy: 0.8998\n",
            "Epoch 86/100\n",
            "106/106 [==============================] - 0s 4ms/step - loss: 0.3513 - accuracy: 0.9036 - val_loss: 0.3605 - val_accuracy: 0.8998\n",
            "Epoch 87/100\n",
            "106/106 [==============================] - 0s 4ms/step - loss: 0.3506 - accuracy: 0.9038 - val_loss: 0.3599 - val_accuracy: 0.9003\n",
            "Epoch 88/100\n",
            "106/106 [==============================] - 0s 4ms/step - loss: 0.3499 - accuracy: 0.9039 - val_loss: 0.3593 - val_accuracy: 0.9007\n",
            "Epoch 89/100\n",
            "106/106 [==============================] - 0s 4ms/step - loss: 0.3493 - accuracy: 0.9042 - val_loss: 0.3587 - val_accuracy: 0.9013\n",
            "Epoch 90/100\n",
            "106/106 [==============================] - 0s 4ms/step - loss: 0.3486 - accuracy: 0.9042 - val_loss: 0.3580 - val_accuracy: 0.9008\n",
            "Epoch 91/100\n",
            "106/106 [==============================] - 0s 4ms/step - loss: 0.3480 - accuracy: 0.9046 - val_loss: 0.3573 - val_accuracy: 0.9012\n",
            "Epoch 92/100\n",
            "106/106 [==============================] - 0s 4ms/step - loss: 0.3474 - accuracy: 0.9046 - val_loss: 0.3567 - val_accuracy: 0.9012\n",
            "Epoch 93/100\n",
            "106/106 [==============================] - 0s 4ms/step - loss: 0.3467 - accuracy: 0.9048 - val_loss: 0.3561 - val_accuracy: 0.9013\n",
            "Epoch 94/100\n",
            "106/106 [==============================] - 1s 6ms/step - loss: 0.3461 - accuracy: 0.9050 - val_loss: 0.3554 - val_accuracy: 0.9020\n",
            "Epoch 95/100\n",
            "106/106 [==============================] - 1s 6ms/step - loss: 0.3455 - accuracy: 0.9050 - val_loss: 0.3549 - val_accuracy: 0.9015\n",
            "Epoch 96/100\n",
            "106/106 [==============================] - 1s 5ms/step - loss: 0.3450 - accuracy: 0.9051 - val_loss: 0.3544 - val_accuracy: 0.9020\n",
            "Epoch 97/100\n",
            "106/106 [==============================] - 1s 6ms/step - loss: 0.3444 - accuracy: 0.9054 - val_loss: 0.3537 - val_accuracy: 0.9027\n",
            "Epoch 98/100\n",
            "106/106 [==============================] - 1s 5ms/step - loss: 0.3438 - accuracy: 0.9054 - val_loss: 0.3532 - val_accuracy: 0.9023\n",
            "Epoch 99/100\n",
            "106/106 [==============================] - 1s 5ms/step - loss: 0.3432 - accuracy: 0.9055 - val_loss: 0.3527 - val_accuracy: 0.9028\n",
            "Epoch 100/100\n",
            "106/106 [==============================] - 1s 5ms/step - loss: 0.3427 - accuracy: 0.9056 - val_loss: 0.3521 - val_accuracy: 0.9028\n"
          ]
        }
      ]
    },
    {
      "cell_type": "code",
      "source": [
        "print(model_2.summary())\n",
        "H_2 = model_2.fit(X_train, y_train, validation_split=0.1, epochs=100, batch_size = 512)"
      ],
      "metadata": {
        "colab": {
          "base_uri": "https://localhost:8080/"
        },
        "id": "yVV5IDaIKHSN",
        "outputId": "9fa692bc-6389-4ccb-bfd1-8813e71e8cf2"
      },
      "execution_count": null,
      "outputs": [
        {
          "output_type": "stream",
          "name": "stdout",
          "text": [
            "Model: \"sequential_8\"\n",
            "_________________________________________________________________\n",
            " Layer (type)                Output Shape              Param #   \n",
            "=================================================================\n",
            " dense_12 (Dense)            (None, 100)               78500     \n",
            "                                                                 \n",
            " dense_13 (Dense)            (None, 10)                1010      \n",
            "                                                                 \n",
            "=================================================================\n",
            "Total params: 79,510\n",
            "Trainable params: 79,510\n",
            "Non-trainable params: 0\n",
            "_________________________________________________________________\n",
            "None\n",
            "Epoch 1/100\n",
            "106/106 [==============================] - 1s 6ms/step - loss: 2.2737 - accuracy: 0.2461 - val_loss: 2.1759 - val_accuracy: 0.4053\n",
            "Epoch 2/100\n",
            "106/106 [==============================] - 0s 4ms/step - loss: 2.1154 - accuracy: 0.4824 - val_loss: 2.0587 - val_accuracy: 0.5275\n",
            "Epoch 3/100\n",
            "106/106 [==============================] - 1s 5ms/step - loss: 1.9985 - accuracy: 0.5886 - val_loss: 1.9459 - val_accuracy: 0.6305\n",
            "Epoch 4/100\n",
            "106/106 [==============================] - 1s 8ms/step - loss: 1.8863 - accuracy: 0.6561 - val_loss: 1.8378 - val_accuracy: 0.6578\n",
            "Epoch 5/100\n",
            "106/106 [==============================] - 0s 4ms/step - loss: 1.7782 - accuracy: 0.6858 - val_loss: 1.7334 - val_accuracy: 0.6847\n",
            "Epoch 6/100\n",
            "106/106 [==============================] - 0s 4ms/step - loss: 1.6748 - accuracy: 0.7073 - val_loss: 1.6336 - val_accuracy: 0.7080\n",
            "Epoch 7/100\n",
            "106/106 [==============================] - 0s 4ms/step - loss: 1.5767 - accuracy: 0.7257 - val_loss: 1.5395 - val_accuracy: 0.7238\n",
            "Epoch 8/100\n",
            "106/106 [==============================] - 1s 6ms/step - loss: 1.4847 - accuracy: 0.7409 - val_loss: 1.4520 - val_accuracy: 0.7422\n",
            "Epoch 9/100\n",
            "106/106 [==============================] - 1s 6ms/step - loss: 1.3994 - accuracy: 0.7544 - val_loss: 1.3709 - val_accuracy: 0.7552\n",
            "Epoch 10/100\n",
            "106/106 [==============================] - 1s 6ms/step - loss: 1.3213 - accuracy: 0.7659 - val_loss: 1.2968 - val_accuracy: 0.7695\n",
            "Epoch 11/100\n",
            "106/106 [==============================] - 1s 11ms/step - loss: 1.2502 - accuracy: 0.7777 - val_loss: 1.2293 - val_accuracy: 0.7768\n",
            "Epoch 12/100\n",
            "106/106 [==============================] - 1s 9ms/step - loss: 1.1857 - accuracy: 0.7863 - val_loss: 1.1684 - val_accuracy: 0.7857\n",
            "Epoch 13/100\n",
            "106/106 [==============================] - 1s 5ms/step - loss: 1.1275 - accuracy: 0.7952 - val_loss: 1.1131 - val_accuracy: 0.7922\n",
            "Epoch 14/100\n",
            "106/106 [==============================] - 0s 4ms/step - loss: 1.0750 - accuracy: 0.8019 - val_loss: 1.0635 - val_accuracy: 0.8040\n",
            "Epoch 15/100\n",
            "106/106 [==============================] - 0s 4ms/step - loss: 1.0276 - accuracy: 0.8071 - val_loss: 1.0183 - val_accuracy: 0.8127\n",
            "Epoch 16/100\n",
            "106/106 [==============================] - 0s 4ms/step - loss: 0.9848 - accuracy: 0.8138 - val_loss: 0.9776 - val_accuracy: 0.8155\n",
            "Epoch 17/100\n",
            "106/106 [==============================] - 0s 5ms/step - loss: 0.9461 - accuracy: 0.8185 - val_loss: 0.9405 - val_accuracy: 0.8223\n",
            "Epoch 18/100\n",
            "106/106 [==============================] - 0s 4ms/step - loss: 0.9110 - accuracy: 0.8229 - val_loss: 0.9069 - val_accuracy: 0.8280\n",
            "Epoch 19/100\n",
            "106/106 [==============================] - 0s 4ms/step - loss: 0.8791 - accuracy: 0.8273 - val_loss: 0.8761 - val_accuracy: 0.8322\n",
            "Epoch 20/100\n",
            "106/106 [==============================] - 0s 4ms/step - loss: 0.8500 - accuracy: 0.8307 - val_loss: 0.8481 - val_accuracy: 0.8365\n",
            "Epoch 21/100\n",
            "106/106 [==============================] - 0s 4ms/step - loss: 0.8233 - accuracy: 0.8343 - val_loss: 0.8226 - val_accuracy: 0.8402\n",
            "Epoch 22/100\n",
            "106/106 [==============================] - 0s 4ms/step - loss: 0.7989 - accuracy: 0.8372 - val_loss: 0.7990 - val_accuracy: 0.8417\n",
            "Epoch 23/100\n",
            "106/106 [==============================] - 0s 4ms/step - loss: 0.7764 - accuracy: 0.8397 - val_loss: 0.7772 - val_accuracy: 0.8458\n",
            "Epoch 24/100\n",
            "106/106 [==============================] - 0s 4ms/step - loss: 0.7557 - accuracy: 0.8422 - val_loss: 0.7572 - val_accuracy: 0.8468\n",
            "Epoch 25/100\n",
            "106/106 [==============================] - 0s 4ms/step - loss: 0.7366 - accuracy: 0.8441 - val_loss: 0.7385 - val_accuracy: 0.8485\n",
            "Epoch 26/100\n",
            "106/106 [==============================] - 0s 4ms/step - loss: 0.7188 - accuracy: 0.8467 - val_loss: 0.7212 - val_accuracy: 0.8493\n",
            "Epoch 27/100\n",
            "106/106 [==============================] - 0s 4ms/step - loss: 0.7023 - accuracy: 0.8486 - val_loss: 0.7052 - val_accuracy: 0.8537\n",
            "Epoch 28/100\n",
            "106/106 [==============================] - 0s 4ms/step - loss: 0.6869 - accuracy: 0.8503 - val_loss: 0.6903 - val_accuracy: 0.8547\n",
            "Epoch 29/100\n",
            "106/106 [==============================] - 0s 4ms/step - loss: 0.6725 - accuracy: 0.8527 - val_loss: 0.6761 - val_accuracy: 0.8557\n",
            "Epoch 30/100\n",
            "106/106 [==============================] - 0s 4ms/step - loss: 0.6591 - accuracy: 0.8543 - val_loss: 0.6630 - val_accuracy: 0.8570\n",
            "Epoch 31/100\n",
            "106/106 [==============================] - 0s 4ms/step - loss: 0.6465 - accuracy: 0.8556 - val_loss: 0.6508 - val_accuracy: 0.8592\n",
            "Epoch 32/100\n",
            "106/106 [==============================] - 0s 4ms/step - loss: 0.6347 - accuracy: 0.8573 - val_loss: 0.6392 - val_accuracy: 0.8595\n",
            "Epoch 33/100\n",
            "106/106 [==============================] - 0s 4ms/step - loss: 0.6235 - accuracy: 0.8589 - val_loss: 0.6281 - val_accuracy: 0.8610\n",
            "Epoch 34/100\n",
            "106/106 [==============================] - 0s 4ms/step - loss: 0.6130 - accuracy: 0.8600 - val_loss: 0.6179 - val_accuracy: 0.8615\n",
            "Epoch 35/100\n",
            "106/106 [==============================] - 1s 6ms/step - loss: 0.6031 - accuracy: 0.8617 - val_loss: 0.6082 - val_accuracy: 0.8635\n",
            "Epoch 36/100\n",
            "106/106 [==============================] - 1s 6ms/step - loss: 0.5937 - accuracy: 0.8631 - val_loss: 0.5991 - val_accuracy: 0.8650\n",
            "Epoch 37/100\n",
            "106/106 [==============================] - 1s 6ms/step - loss: 0.5848 - accuracy: 0.8644 - val_loss: 0.5904 - val_accuracy: 0.8663\n",
            "Epoch 38/100\n",
            "106/106 [==============================] - 1s 5ms/step - loss: 0.5764 - accuracy: 0.8655 - val_loss: 0.5821 - val_accuracy: 0.8680\n",
            "Epoch 39/100\n",
            "106/106 [==============================] - 1s 6ms/step - loss: 0.5683 - accuracy: 0.8671 - val_loss: 0.5742 - val_accuracy: 0.8693\n",
            "Epoch 40/100\n",
            "106/106 [==============================] - 1s 6ms/step - loss: 0.5607 - accuracy: 0.8683 - val_loss: 0.5667 - val_accuracy: 0.8707\n",
            "Epoch 41/100\n",
            "106/106 [==============================] - 1s 6ms/step - loss: 0.5534 - accuracy: 0.8692 - val_loss: 0.5597 - val_accuracy: 0.8723\n",
            "Epoch 42/100\n",
            "106/106 [==============================] - 0s 5ms/step - loss: 0.5465 - accuracy: 0.8702 - val_loss: 0.5527 - val_accuracy: 0.8733\n",
            "Epoch 43/100\n",
            "106/106 [==============================] - 0s 4ms/step - loss: 0.5399 - accuracy: 0.8712 - val_loss: 0.5464 - val_accuracy: 0.8740\n",
            "Epoch 44/100\n",
            "106/106 [==============================] - 0s 4ms/step - loss: 0.5336 - accuracy: 0.8722 - val_loss: 0.5401 - val_accuracy: 0.8745\n",
            "Epoch 45/100\n",
            "106/106 [==============================] - 0s 4ms/step - loss: 0.5275 - accuracy: 0.8733 - val_loss: 0.5342 - val_accuracy: 0.8745\n",
            "Epoch 46/100\n",
            "106/106 [==============================] - 0s 4ms/step - loss: 0.5218 - accuracy: 0.8740 - val_loss: 0.5285 - val_accuracy: 0.8762\n",
            "Epoch 47/100\n",
            "106/106 [==============================] - 0s 4ms/step - loss: 0.5162 - accuracy: 0.8750 - val_loss: 0.5232 - val_accuracy: 0.8767\n",
            "Epoch 48/100\n",
            "106/106 [==============================] - 0s 4ms/step - loss: 0.5109 - accuracy: 0.8762 - val_loss: 0.5177 - val_accuracy: 0.8768\n",
            "Epoch 49/100\n",
            "106/106 [==============================] - 0s 4ms/step - loss: 0.5057 - accuracy: 0.8767 - val_loss: 0.5129 - val_accuracy: 0.8773\n",
            "Epoch 50/100\n",
            "106/106 [==============================] - 0s 4ms/step - loss: 0.5008 - accuracy: 0.8775 - val_loss: 0.5080 - val_accuracy: 0.8780\n",
            "Epoch 51/100\n",
            "106/106 [==============================] - 0s 4ms/step - loss: 0.4961 - accuracy: 0.8783 - val_loss: 0.5033 - val_accuracy: 0.8777\n",
            "Epoch 52/100\n",
            "106/106 [==============================] - 0s 4ms/step - loss: 0.4916 - accuracy: 0.8790 - val_loss: 0.4988 - val_accuracy: 0.8780\n",
            "Epoch 53/100\n",
            "106/106 [==============================] - 0s 5ms/step - loss: 0.4872 - accuracy: 0.8797 - val_loss: 0.4946 - val_accuracy: 0.8795\n",
            "Epoch 54/100\n",
            "106/106 [==============================] - 0s 5ms/step - loss: 0.4830 - accuracy: 0.8804 - val_loss: 0.4905 - val_accuracy: 0.8797\n",
            "Epoch 55/100\n",
            "106/106 [==============================] - 1s 5ms/step - loss: 0.4789 - accuracy: 0.8809 - val_loss: 0.4865 - val_accuracy: 0.8802\n",
            "Epoch 56/100\n",
            "106/106 [==============================] - 1s 5ms/step - loss: 0.4750 - accuracy: 0.8815 - val_loss: 0.4826 - val_accuracy: 0.8805\n",
            "Epoch 57/100\n",
            "106/106 [==============================] - 0s 4ms/step - loss: 0.4712 - accuracy: 0.8819 - val_loss: 0.4788 - val_accuracy: 0.8810\n",
            "Epoch 58/100\n",
            "106/106 [==============================] - 0s 4ms/step - loss: 0.4675 - accuracy: 0.8824 - val_loss: 0.4752 - val_accuracy: 0.8820\n",
            "Epoch 59/100\n",
            "106/106 [==============================] - 0s 4ms/step - loss: 0.4639 - accuracy: 0.8830 - val_loss: 0.4717 - val_accuracy: 0.8832\n",
            "Epoch 60/100\n",
            "106/106 [==============================] - 0s 4ms/step - loss: 0.4605 - accuracy: 0.8834 - val_loss: 0.4683 - val_accuracy: 0.8840\n",
            "Epoch 61/100\n",
            "106/106 [==============================] - 0s 4ms/step - loss: 0.4572 - accuracy: 0.8838 - val_loss: 0.4651 - val_accuracy: 0.8843\n",
            "Epoch 62/100\n",
            "106/106 [==============================] - 0s 4ms/step - loss: 0.4540 - accuracy: 0.8840 - val_loss: 0.4620 - val_accuracy: 0.8848\n",
            "Epoch 63/100\n",
            "106/106 [==============================] - 1s 6ms/step - loss: 0.4508 - accuracy: 0.8846 - val_loss: 0.4588 - val_accuracy: 0.8858\n",
            "Epoch 64/100\n",
            "106/106 [==============================] - 1s 6ms/step - loss: 0.4478 - accuracy: 0.8851 - val_loss: 0.4559 - val_accuracy: 0.8863\n",
            "Epoch 65/100\n",
            "106/106 [==============================] - 1s 6ms/step - loss: 0.4449 - accuracy: 0.8854 - val_loss: 0.4531 - val_accuracy: 0.8858\n",
            "Epoch 66/100\n",
            "106/106 [==============================] - 1s 6ms/step - loss: 0.4420 - accuracy: 0.8861 - val_loss: 0.4503 - val_accuracy: 0.8863\n",
            "Epoch 67/100\n",
            "106/106 [==============================] - 1s 6ms/step - loss: 0.4392 - accuracy: 0.8864 - val_loss: 0.4474 - val_accuracy: 0.8873\n",
            "Epoch 68/100\n",
            "106/106 [==============================] - 1s 6ms/step - loss: 0.4366 - accuracy: 0.8868 - val_loss: 0.4448 - val_accuracy: 0.8872\n",
            "Epoch 69/100\n",
            "106/106 [==============================] - 1s 5ms/step - loss: 0.4340 - accuracy: 0.8871 - val_loss: 0.4424 - val_accuracy: 0.8878\n",
            "Epoch 70/100\n",
            "106/106 [==============================] - 0s 4ms/step - loss: 0.4314 - accuracy: 0.8879 - val_loss: 0.4398 - val_accuracy: 0.8878\n",
            "Epoch 71/100\n",
            "106/106 [==============================] - 0s 4ms/step - loss: 0.4290 - accuracy: 0.8880 - val_loss: 0.4374 - val_accuracy: 0.8878\n",
            "Epoch 72/100\n",
            "106/106 [==============================] - 0s 4ms/step - loss: 0.4265 - accuracy: 0.8886 - val_loss: 0.4350 - val_accuracy: 0.8880\n",
            "Epoch 73/100\n",
            "106/106 [==============================] - 0s 4ms/step - loss: 0.4242 - accuracy: 0.8890 - val_loss: 0.4328 - val_accuracy: 0.8888\n",
            "Epoch 74/100\n",
            "106/106 [==============================] - 0s 4ms/step - loss: 0.4219 - accuracy: 0.8891 - val_loss: 0.4304 - val_accuracy: 0.8893\n",
            "Epoch 75/100\n",
            "106/106 [==============================] - 0s 4ms/step - loss: 0.4197 - accuracy: 0.8897 - val_loss: 0.4283 - val_accuracy: 0.8895\n",
            "Epoch 76/100\n",
            "106/106 [==============================] - 0s 4ms/step - loss: 0.4175 - accuracy: 0.8900 - val_loss: 0.4261 - val_accuracy: 0.8902\n",
            "Epoch 77/100\n",
            "106/106 [==============================] - 0s 4ms/step - loss: 0.4154 - accuracy: 0.8903 - val_loss: 0.4241 - val_accuracy: 0.8912\n",
            "Epoch 78/100\n",
            "106/106 [==============================] - 0s 4ms/step - loss: 0.4134 - accuracy: 0.8908 - val_loss: 0.4221 - val_accuracy: 0.8910\n",
            "Epoch 79/100\n",
            "106/106 [==============================] - 0s 4ms/step - loss: 0.4114 - accuracy: 0.8914 - val_loss: 0.4201 - val_accuracy: 0.8912\n",
            "Epoch 80/100\n",
            "106/106 [==============================] - 0s 4ms/step - loss: 0.4094 - accuracy: 0.8913 - val_loss: 0.4181 - val_accuracy: 0.8913\n",
            "Epoch 81/100\n",
            "106/106 [==============================] - 0s 4ms/step - loss: 0.4075 - accuracy: 0.8919 - val_loss: 0.4163 - val_accuracy: 0.8920\n",
            "Epoch 82/100\n",
            "106/106 [==============================] - 0s 4ms/step - loss: 0.4056 - accuracy: 0.8920 - val_loss: 0.4144 - val_accuracy: 0.8923\n",
            "Epoch 83/100\n",
            "106/106 [==============================] - 1s 5ms/step - loss: 0.4038 - accuracy: 0.8924 - val_loss: 0.4127 - val_accuracy: 0.8928\n",
            "Epoch 84/100\n",
            "106/106 [==============================] - 0s 4ms/step - loss: 0.4020 - accuracy: 0.8928 - val_loss: 0.4109 - val_accuracy: 0.8930\n",
            "Epoch 85/100\n",
            "106/106 [==============================] - 0s 4ms/step - loss: 0.4002 - accuracy: 0.8932 - val_loss: 0.4092 - val_accuracy: 0.8930\n",
            "Epoch 86/100\n",
            "106/106 [==============================] - 0s 4ms/step - loss: 0.3985 - accuracy: 0.8935 - val_loss: 0.4076 - val_accuracy: 0.8933\n",
            "Epoch 87/100\n",
            "106/106 [==============================] - 0s 4ms/step - loss: 0.3968 - accuracy: 0.8938 - val_loss: 0.4058 - val_accuracy: 0.8932\n",
            "Epoch 88/100\n",
            "106/106 [==============================] - 0s 4ms/step - loss: 0.3952 - accuracy: 0.8940 - val_loss: 0.4042 - val_accuracy: 0.8935\n",
            "Epoch 89/100\n",
            "106/106 [==============================] - 0s 4ms/step - loss: 0.3936 - accuracy: 0.8945 - val_loss: 0.4026 - val_accuracy: 0.8937\n",
            "Epoch 90/100\n",
            "106/106 [==============================] - 1s 6ms/step - loss: 0.3920 - accuracy: 0.8947 - val_loss: 0.4010 - val_accuracy: 0.8938\n",
            "Epoch 91/100\n",
            "106/106 [==============================] - 1s 6ms/step - loss: 0.3905 - accuracy: 0.8947 - val_loss: 0.3996 - val_accuracy: 0.8943\n",
            "Epoch 92/100\n",
            "106/106 [==============================] - 1s 6ms/step - loss: 0.3890 - accuracy: 0.8952 - val_loss: 0.3981 - val_accuracy: 0.8947\n",
            "Epoch 93/100\n",
            "106/106 [==============================] - 1s 6ms/step - loss: 0.3875 - accuracy: 0.8954 - val_loss: 0.3966 - val_accuracy: 0.8953\n",
            "Epoch 94/100\n",
            "106/106 [==============================] - 2s 15ms/step - loss: 0.3861 - accuracy: 0.8953 - val_loss: 0.3952 - val_accuracy: 0.8950\n",
            "Epoch 95/100\n",
            "106/106 [==============================] - 1s 10ms/step - loss: 0.3846 - accuracy: 0.8959 - val_loss: 0.3937 - val_accuracy: 0.8950\n",
            "Epoch 96/100\n",
            "106/106 [==============================] - 1s 5ms/step - loss: 0.3833 - accuracy: 0.8962 - val_loss: 0.3923 - val_accuracy: 0.8953\n",
            "Epoch 97/100\n",
            "106/106 [==============================] - 0s 5ms/step - loss: 0.3819 - accuracy: 0.8965 - val_loss: 0.3909 - val_accuracy: 0.8953\n",
            "Epoch 98/100\n",
            "106/106 [==============================] - 0s 4ms/step - loss: 0.3805 - accuracy: 0.8966 - val_loss: 0.3897 - val_accuracy: 0.8958\n",
            "Epoch 99/100\n",
            "106/106 [==============================] - 0s 4ms/step - loss: 0.3792 - accuracy: 0.8969 - val_loss: 0.3884 - val_accuracy: 0.8953\n",
            "Epoch 100/100\n",
            "106/106 [==============================] - 0s 4ms/step - loss: 0.3779 - accuracy: 0.8970 - val_loss: 0.3873 - val_accuracy: 0.8957\n"
          ]
        }
      ]
    },
    {
      "cell_type": "code",
      "source": [
        "print(model_3.summary())\n",
        "H_3 = model_3.fit(X_train, y_train, validation_split=0.1, epochs=100, batch_size = 512)"
      ],
      "metadata": {
        "id": "TEKbZKTiKOsD",
        "colab": {
          "base_uri": "https://localhost:8080/"
        },
        "outputId": "e7f4d0f7-4021-437a-8e97-08c85b7f10a5"
      },
      "execution_count": null,
      "outputs": [
        {
          "output_type": "stream",
          "name": "stdout",
          "text": [
            "Model: \"sequential_11\"\n",
            "_________________________________________________________________\n",
            " Layer (type)                Output Shape              Param #   \n",
            "=================================================================\n",
            " dense_20 (Dense)            (None, 300)               235500    \n",
            "                                                                 \n",
            " dense_21 (Dense)            (None, 10)                3010      \n",
            "                                                                 \n",
            "=================================================================\n",
            "Total params: 238510 (931.68 KB)\n",
            "Trainable params: 238510 (931.68 KB)\n",
            "Non-trainable params: 0 (0.00 Byte)\n",
            "_________________________________________________________________\n",
            "None\n",
            "Epoch 1/100\n",
            "106/106 [==============================] - 1s 8ms/step - loss: 2.2161 - accuracy: 0.2885 - val_loss: 2.1341 - val_accuracy: 0.4355\n",
            "Epoch 2/100\n",
            "106/106 [==============================] - 1s 6ms/step - loss: 2.0568 - accuracy: 0.5167 - val_loss: 1.9891 - val_accuracy: 0.5553\n",
            "Epoch 3/100\n",
            "106/106 [==============================] - 1s 6ms/step - loss: 1.9142 - accuracy: 0.6113 - val_loss: 1.8534 - val_accuracy: 0.6388\n",
            "Epoch 4/100\n",
            "106/106 [==============================] - 1s 6ms/step - loss: 1.7812 - accuracy: 0.6659 - val_loss: 1.7266 - val_accuracy: 0.6855\n",
            "Epoch 5/100\n",
            "106/106 [==============================] - 1s 5ms/step - loss: 1.6573 - accuracy: 0.7048 - val_loss: 1.6088 - val_accuracy: 0.7033\n",
            "Epoch 6/100\n",
            "106/106 [==============================] - 0s 4ms/step - loss: 1.5425 - accuracy: 0.7274 - val_loss: 1.4998 - val_accuracy: 0.7340\n",
            "Epoch 7/100\n",
            "106/106 [==============================] - 0s 5ms/step - loss: 1.4371 - accuracy: 0.7486 - val_loss: 1.4005 - val_accuracy: 0.7527\n",
            "Epoch 8/100\n",
            "106/106 [==============================] - 1s 5ms/step - loss: 1.3416 - accuracy: 0.7647 - val_loss: 1.3113 - val_accuracy: 0.7640\n",
            "Epoch 9/100\n",
            "106/106 [==============================] - 0s 4ms/step - loss: 1.2557 - accuracy: 0.7776 - val_loss: 1.2298 - val_accuracy: 0.7783\n",
            "Epoch 10/100\n",
            "106/106 [==============================] - 0s 4ms/step - loss: 1.1789 - accuracy: 0.7882 - val_loss: 1.1573 - val_accuracy: 0.7878\n",
            "Epoch 11/100\n",
            "106/106 [==============================] - 0s 4ms/step - loss: 1.1105 - accuracy: 0.7969 - val_loss: 1.0931 - val_accuracy: 0.7928\n",
            "Epoch 12/100\n",
            "106/106 [==============================] - 0s 4ms/step - loss: 1.0499 - accuracy: 0.8054 - val_loss: 1.0359 - val_accuracy: 0.8005\n",
            "Epoch 13/100\n",
            "106/106 [==============================] - 0s 4ms/step - loss: 0.9962 - accuracy: 0.8116 - val_loss: 0.9853 - val_accuracy: 0.8088\n",
            "Epoch 14/100\n",
            "106/106 [==============================] - 0s 4ms/step - loss: 0.9484 - accuracy: 0.8174 - val_loss: 0.9398 - val_accuracy: 0.8178\n",
            "Epoch 15/100\n",
            "106/106 [==============================] - 0s 4ms/step - loss: 0.9059 - accuracy: 0.8233 - val_loss: 0.9002 - val_accuracy: 0.8188\n",
            "Epoch 16/100\n",
            "106/106 [==============================] - 0s 5ms/step - loss: 0.8680 - accuracy: 0.8276 - val_loss: 0.8638 - val_accuracy: 0.8267\n",
            "Epoch 17/100\n",
            "106/106 [==============================] - 0s 5ms/step - loss: 0.8341 - accuracy: 0.8317 - val_loss: 0.8315 - val_accuracy: 0.8322\n",
            "Epoch 18/100\n",
            "106/106 [==============================] - 0s 4ms/step - loss: 0.8035 - accuracy: 0.8350 - val_loss: 0.8022 - val_accuracy: 0.8387\n",
            "Epoch 19/100\n",
            "106/106 [==============================] - 0s 4ms/step - loss: 0.7759 - accuracy: 0.8389 - val_loss: 0.7757 - val_accuracy: 0.8407\n",
            "Epoch 20/100\n",
            "106/106 [==============================] - 0s 4ms/step - loss: 0.7511 - accuracy: 0.8415 - val_loss: 0.7520 - val_accuracy: 0.8410\n",
            "Epoch 21/100\n",
            "106/106 [==============================] - 0s 4ms/step - loss: 0.7284 - accuracy: 0.8443 - val_loss: 0.7298 - val_accuracy: 0.8462\n",
            "Epoch 22/100\n",
            "106/106 [==============================] - 0s 5ms/step - loss: 0.7077 - accuracy: 0.8474 - val_loss: 0.7100 - val_accuracy: 0.8475\n",
            "Epoch 23/100\n",
            "106/106 [==============================] - 0s 4ms/step - loss: 0.6888 - accuracy: 0.8497 - val_loss: 0.6915 - val_accuracy: 0.8510\n",
            "Epoch 24/100\n",
            "106/106 [==============================] - 0s 4ms/step - loss: 0.6713 - accuracy: 0.8512 - val_loss: 0.6750 - val_accuracy: 0.8517\n",
            "Epoch 25/100\n",
            "106/106 [==============================] - 0s 4ms/step - loss: 0.6553 - accuracy: 0.8538 - val_loss: 0.6591 - val_accuracy: 0.8543\n",
            "Epoch 26/100\n",
            "106/106 [==============================] - 1s 6ms/step - loss: 0.6404 - accuracy: 0.8560 - val_loss: 0.6448 - val_accuracy: 0.8562\n",
            "Epoch 27/100\n",
            "106/106 [==============================] - 1s 6ms/step - loss: 0.6267 - accuracy: 0.8573 - val_loss: 0.6315 - val_accuracy: 0.8582\n",
            "Epoch 28/100\n",
            "106/106 [==============================] - 1s 6ms/step - loss: 0.6139 - accuracy: 0.8589 - val_loss: 0.6187 - val_accuracy: 0.8607\n",
            "Epoch 29/100\n",
            "106/106 [==============================] - 1s 6ms/step - loss: 0.6020 - accuracy: 0.8605 - val_loss: 0.6076 - val_accuracy: 0.8610\n",
            "Epoch 30/100\n",
            "106/106 [==============================] - 1s 5ms/step - loss: 0.5909 - accuracy: 0.8620 - val_loss: 0.5968 - val_accuracy: 0.8627\n",
            "Epoch 31/100\n",
            "106/106 [==============================] - 1s 6ms/step - loss: 0.5805 - accuracy: 0.8633 - val_loss: 0.5867 - val_accuracy: 0.8660\n",
            "Epoch 32/100\n",
            "106/106 [==============================] - 1s 5ms/step - loss: 0.5707 - accuracy: 0.8653 - val_loss: 0.5770 - val_accuracy: 0.8665\n",
            "Epoch 33/100\n",
            "106/106 [==============================] - 0s 4ms/step - loss: 0.5615 - accuracy: 0.8664 - val_loss: 0.5679 - val_accuracy: 0.8680\n",
            "Epoch 34/100\n",
            "106/106 [==============================] - 0s 5ms/step - loss: 0.5529 - accuracy: 0.8675 - val_loss: 0.5594 - val_accuracy: 0.8695\n",
            "Epoch 35/100\n",
            "106/106 [==============================] - 0s 4ms/step - loss: 0.5447 - accuracy: 0.8686 - val_loss: 0.5514 - val_accuracy: 0.8702\n",
            "Epoch 36/100\n",
            "106/106 [==============================] - 0s 4ms/step - loss: 0.5370 - accuracy: 0.8695 - val_loss: 0.5440 - val_accuracy: 0.8710\n",
            "Epoch 37/100\n",
            "106/106 [==============================] - 0s 5ms/step - loss: 0.5298 - accuracy: 0.8711 - val_loss: 0.5368 - val_accuracy: 0.8720\n",
            "Epoch 38/100\n",
            "106/106 [==============================] - 0s 4ms/step - loss: 0.5229 - accuracy: 0.8722 - val_loss: 0.5301 - val_accuracy: 0.8728\n",
            "Epoch 39/100\n",
            "106/106 [==============================] - 0s 4ms/step - loss: 0.5163 - accuracy: 0.8732 - val_loss: 0.5234 - val_accuracy: 0.8737\n",
            "Epoch 40/100\n",
            "106/106 [==============================] - 0s 5ms/step - loss: 0.5101 - accuracy: 0.8743 - val_loss: 0.5175 - val_accuracy: 0.8747\n",
            "Epoch 41/100\n",
            "106/106 [==============================] - 0s 4ms/step - loss: 0.5042 - accuracy: 0.8748 - val_loss: 0.5118 - val_accuracy: 0.8753\n",
            "Epoch 42/100\n",
            "106/106 [==============================] - 0s 4ms/step - loss: 0.4985 - accuracy: 0.8764 - val_loss: 0.5061 - val_accuracy: 0.8757\n",
            "Epoch 43/100\n",
            "106/106 [==============================] - 0s 4ms/step - loss: 0.4932 - accuracy: 0.8772 - val_loss: 0.5011 - val_accuracy: 0.8772\n",
            "Epoch 44/100\n",
            "106/106 [==============================] - 0s 4ms/step - loss: 0.4881 - accuracy: 0.8783 - val_loss: 0.4959 - val_accuracy: 0.8777\n",
            "Epoch 45/100\n",
            "106/106 [==============================] - 0s 5ms/step - loss: 0.4831 - accuracy: 0.8787 - val_loss: 0.4914 - val_accuracy: 0.8785\n",
            "Epoch 46/100\n",
            "106/106 [==============================] - 0s 4ms/step - loss: 0.4785 - accuracy: 0.8796 - val_loss: 0.4866 - val_accuracy: 0.8788\n",
            "Epoch 47/100\n",
            "106/106 [==============================] - 0s 5ms/step - loss: 0.4740 - accuracy: 0.8799 - val_loss: 0.4819 - val_accuracy: 0.8803\n",
            "Epoch 48/100\n",
            "106/106 [==============================] - 0s 4ms/step - loss: 0.4697 - accuracy: 0.8804 - val_loss: 0.4779 - val_accuracy: 0.8803\n",
            "Epoch 49/100\n",
            "106/106 [==============================] - 0s 5ms/step - loss: 0.4656 - accuracy: 0.8809 - val_loss: 0.4737 - val_accuracy: 0.8805\n",
            "Epoch 50/100\n",
            "106/106 [==============================] - 0s 4ms/step - loss: 0.4616 - accuracy: 0.8816 - val_loss: 0.4698 - val_accuracy: 0.8818\n",
            "Epoch 51/100\n",
            "106/106 [==============================] - 0s 4ms/step - loss: 0.4578 - accuracy: 0.8822 - val_loss: 0.4661 - val_accuracy: 0.8837\n",
            "Epoch 52/100\n",
            "106/106 [==============================] - 0s 4ms/step - loss: 0.4541 - accuracy: 0.8830 - val_loss: 0.4624 - val_accuracy: 0.8828\n",
            "Epoch 53/100\n",
            "106/106 [==============================] - 1s 6ms/step - loss: 0.4506 - accuracy: 0.8833 - val_loss: 0.4592 - val_accuracy: 0.8832\n",
            "Epoch 54/100\n",
            "106/106 [==============================] - 1s 6ms/step - loss: 0.4472 - accuracy: 0.8840 - val_loss: 0.4557 - val_accuracy: 0.8832\n",
            "Epoch 55/100\n",
            "106/106 [==============================] - 1s 6ms/step - loss: 0.4439 - accuracy: 0.8842 - val_loss: 0.4525 - val_accuracy: 0.8847\n",
            "Epoch 56/100\n",
            "106/106 [==============================] - 1s 6ms/step - loss: 0.4408 - accuracy: 0.8847 - val_loss: 0.4494 - val_accuracy: 0.8850\n",
            "Epoch 57/100\n",
            "106/106 [==============================] - 1s 6ms/step - loss: 0.4378 - accuracy: 0.8855 - val_loss: 0.4465 - val_accuracy: 0.8852\n",
            "Epoch 58/100\n",
            "106/106 [==============================] - 1s 6ms/step - loss: 0.4349 - accuracy: 0.8859 - val_loss: 0.4437 - val_accuracy: 0.8848\n",
            "Epoch 59/100\n",
            "106/106 [==============================] - 0s 5ms/step - loss: 0.4320 - accuracy: 0.8863 - val_loss: 0.4409 - val_accuracy: 0.8858\n",
            "Epoch 60/100\n",
            "106/106 [==============================] - 1s 5ms/step - loss: 0.4293 - accuracy: 0.8867 - val_loss: 0.4383 - val_accuracy: 0.8857\n",
            "Epoch 61/100\n",
            "106/106 [==============================] - 0s 5ms/step - loss: 0.4267 - accuracy: 0.8867 - val_loss: 0.4357 - val_accuracy: 0.8858\n",
            "Epoch 62/100\n",
            "106/106 [==============================] - 0s 5ms/step - loss: 0.4241 - accuracy: 0.8877 - val_loss: 0.4332 - val_accuracy: 0.8865\n",
            "Epoch 63/100\n",
            "106/106 [==============================] - 0s 4ms/step - loss: 0.4216 - accuracy: 0.8879 - val_loss: 0.4304 - val_accuracy: 0.8868\n",
            "Epoch 64/100\n",
            "106/106 [==============================] - 0s 5ms/step - loss: 0.4192 - accuracy: 0.8886 - val_loss: 0.4282 - val_accuracy: 0.8873\n",
            "Epoch 65/100\n",
            "106/106 [==============================] - 0s 4ms/step - loss: 0.4169 - accuracy: 0.8887 - val_loss: 0.4258 - val_accuracy: 0.8878\n",
            "Epoch 66/100\n",
            "106/106 [==============================] - 1s 5ms/step - loss: 0.4146 - accuracy: 0.8894 - val_loss: 0.4235 - val_accuracy: 0.8885\n",
            "Epoch 67/100\n",
            "106/106 [==============================] - 0s 5ms/step - loss: 0.4124 - accuracy: 0.8895 - val_loss: 0.4216 - val_accuracy: 0.8888\n",
            "Epoch 68/100\n",
            "106/106 [==============================] - 0s 4ms/step - loss: 0.4103 - accuracy: 0.8898 - val_loss: 0.4192 - val_accuracy: 0.8892\n",
            "Epoch 69/100\n",
            "106/106 [==============================] - 0s 5ms/step - loss: 0.4082 - accuracy: 0.8900 - val_loss: 0.4174 - val_accuracy: 0.8890\n",
            "Epoch 70/100\n",
            "106/106 [==============================] - 0s 5ms/step - loss: 0.4062 - accuracy: 0.8904 - val_loss: 0.4151 - val_accuracy: 0.8893\n",
            "Epoch 71/100\n",
            "106/106 [==============================] - 0s 4ms/step - loss: 0.4042 - accuracy: 0.8909 - val_loss: 0.4134 - val_accuracy: 0.8900\n",
            "Epoch 72/100\n",
            "106/106 [==============================] - 0s 4ms/step - loss: 0.4024 - accuracy: 0.8915 - val_loss: 0.4116 - val_accuracy: 0.8900\n",
            "Epoch 73/100\n",
            "106/106 [==============================] - 0s 5ms/step - loss: 0.4005 - accuracy: 0.8920 - val_loss: 0.4098 - val_accuracy: 0.8898\n",
            "Epoch 74/100\n",
            "106/106 [==============================] - 0s 4ms/step - loss: 0.3986 - accuracy: 0.8920 - val_loss: 0.4082 - val_accuracy: 0.8907\n",
            "Epoch 75/100\n",
            "106/106 [==============================] - 0s 4ms/step - loss: 0.3969 - accuracy: 0.8925 - val_loss: 0.4060 - val_accuracy: 0.8902\n",
            "Epoch 76/100\n",
            "106/106 [==============================] - 0s 4ms/step - loss: 0.3952 - accuracy: 0.8927 - val_loss: 0.4043 - val_accuracy: 0.8918\n",
            "Epoch 77/100\n",
            "106/106 [==============================] - 0s 4ms/step - loss: 0.3936 - accuracy: 0.8929 - val_loss: 0.4029 - val_accuracy: 0.8915\n",
            "Epoch 78/100\n",
            "106/106 [==============================] - 0s 5ms/step - loss: 0.3919 - accuracy: 0.8934 - val_loss: 0.4013 - val_accuracy: 0.8915\n",
            "Epoch 79/100\n",
            "106/106 [==============================] - 1s 6ms/step - loss: 0.3903 - accuracy: 0.8936 - val_loss: 0.3997 - val_accuracy: 0.8930\n",
            "Epoch 80/100\n",
            "106/106 [==============================] - 1s 6ms/step - loss: 0.3888 - accuracy: 0.8937 - val_loss: 0.3981 - val_accuracy: 0.8920\n",
            "Epoch 81/100\n",
            "106/106 [==============================] - 1s 5ms/step - loss: 0.3873 - accuracy: 0.8942 - val_loss: 0.3965 - val_accuracy: 0.8925\n",
            "Epoch 82/100\n",
            "106/106 [==============================] - 1s 6ms/step - loss: 0.3858 - accuracy: 0.8951 - val_loss: 0.3953 - val_accuracy: 0.8930\n",
            "Epoch 83/100\n",
            "106/106 [==============================] - 1s 6ms/step - loss: 0.3844 - accuracy: 0.8946 - val_loss: 0.3938 - val_accuracy: 0.8930\n",
            "Epoch 84/100\n",
            "106/106 [==============================] - 1s 6ms/step - loss: 0.3829 - accuracy: 0.8949 - val_loss: 0.3921 - val_accuracy: 0.8935\n",
            "Epoch 85/100\n",
            "106/106 [==============================] - 1s 6ms/step - loss: 0.3816 - accuracy: 0.8958 - val_loss: 0.3909 - val_accuracy: 0.8935\n",
            "Epoch 86/100\n",
            "106/106 [==============================] - 0s 4ms/step - loss: 0.3802 - accuracy: 0.8958 - val_loss: 0.3893 - val_accuracy: 0.8938\n",
            "Epoch 87/100\n",
            "106/106 [==============================] - 0s 4ms/step - loss: 0.3789 - accuracy: 0.8958 - val_loss: 0.3882 - val_accuracy: 0.8940\n",
            "Epoch 88/100\n",
            "106/106 [==============================] - 1s 5ms/step - loss: 0.3776 - accuracy: 0.8964 - val_loss: 0.3868 - val_accuracy: 0.8947\n",
            "Epoch 89/100\n",
            "106/106 [==============================] - 0s 5ms/step - loss: 0.3764 - accuracy: 0.8970 - val_loss: 0.3859 - val_accuracy: 0.8950\n",
            "Epoch 90/100\n",
            "106/106 [==============================] - 0s 4ms/step - loss: 0.3751 - accuracy: 0.8968 - val_loss: 0.3844 - val_accuracy: 0.8942\n",
            "Epoch 91/100\n",
            "106/106 [==============================] - 0s 5ms/step - loss: 0.3739 - accuracy: 0.8971 - val_loss: 0.3831 - val_accuracy: 0.8940\n",
            "Epoch 92/100\n",
            "106/106 [==============================] - 1s 5ms/step - loss: 0.3727 - accuracy: 0.8973 - val_loss: 0.3820 - val_accuracy: 0.8953\n",
            "Epoch 93/100\n",
            "106/106 [==============================] - 1s 5ms/step - loss: 0.3715 - accuracy: 0.8982 - val_loss: 0.3808 - val_accuracy: 0.8952\n",
            "Epoch 94/100\n",
            "106/106 [==============================] - 1s 5ms/step - loss: 0.3705 - accuracy: 0.8982 - val_loss: 0.3797 - val_accuracy: 0.8958\n",
            "Epoch 95/100\n",
            "106/106 [==============================] - 0s 4ms/step - loss: 0.3693 - accuracy: 0.8987 - val_loss: 0.3786 - val_accuracy: 0.8957\n",
            "Epoch 96/100\n",
            "106/106 [==============================] - 0s 4ms/step - loss: 0.3682 - accuracy: 0.8986 - val_loss: 0.3776 - val_accuracy: 0.8957\n",
            "Epoch 97/100\n",
            "106/106 [==============================] - 0s 4ms/step - loss: 0.3672 - accuracy: 0.8992 - val_loss: 0.3764 - val_accuracy: 0.8957\n",
            "Epoch 98/100\n",
            "106/106 [==============================] - 0s 4ms/step - loss: 0.3661 - accuracy: 0.8991 - val_loss: 0.3755 - val_accuracy: 0.8965\n",
            "Epoch 99/100\n",
            "106/106 [==============================] - 0s 5ms/step - loss: 0.3651 - accuracy: 0.8994 - val_loss: 0.3745 - val_accuracy: 0.8968\n",
            "Epoch 100/100\n",
            "106/106 [==============================] - 0s 5ms/step - loss: 0.3640 - accuracy: 0.8996 - val_loss: 0.3736 - val_accuracy: 0.8972\n"
          ]
        }
      ]
    },
    {
      "cell_type": "code",
      "source": [
        "print(model_4.summary())\n",
        "H_4 = model_4.fit(X_train, y_train, validation_split=0.1, epochs=100, batch_size = 512)"
      ],
      "metadata": {
        "id": "aPfHXw9CKR5j",
        "colab": {
          "base_uri": "https://localhost:8080/"
        },
        "outputId": "a3d0229b-ee98-4bdc-f7b4-f5fb6fb3a45c"
      },
      "execution_count": null,
      "outputs": [
        {
          "output_type": "stream",
          "name": "stdout",
          "text": [
            "Model: \"sequential_12\"\n",
            "_________________________________________________________________\n",
            " Layer (type)                Output Shape              Param #   \n",
            "=================================================================\n",
            " dense_22 (Dense)            (None, 500)               392500    \n",
            "                                                                 \n",
            " dense_23 (Dense)            (None, 10)                5010      \n",
            "                                                                 \n",
            "=================================================================\n",
            "Total params: 397510 (1.52 MB)\n",
            "Trainable params: 397510 (1.52 MB)\n",
            "Non-trainable params: 0 (0.00 Byte)\n",
            "_________________________________________________________________\n",
            "None\n",
            "Epoch 1/100\n",
            "106/106 [==============================] - 2s 9ms/step - loss: 2.2418 - accuracy: 0.2829 - val_loss: 2.1444 - val_accuracy: 0.4955\n",
            "Epoch 2/100\n",
            "106/106 [==============================] - 1s 6ms/step - loss: 2.0577 - accuracy: 0.5601 - val_loss: 1.9808 - val_accuracy: 0.5953\n",
            "Epoch 3/100\n",
            "106/106 [==============================] - 1s 7ms/step - loss: 1.8976 - accuracy: 0.6476 - val_loss: 1.8292 - val_accuracy: 0.6660\n",
            "Epoch 4/100\n",
            "106/106 [==============================] - 1s 6ms/step - loss: 1.7500 - accuracy: 0.6964 - val_loss: 1.6889 - val_accuracy: 0.7142\n",
            "Epoch 5/100\n",
            "106/106 [==============================] - 1s 5ms/step - loss: 1.6145 - accuracy: 0.7263 - val_loss: 1.5615 - val_accuracy: 0.7238\n",
            "Epoch 6/100\n",
            "106/106 [==============================] - 1s 5ms/step - loss: 1.4916 - accuracy: 0.7487 - val_loss: 1.4471 - val_accuracy: 0.7383\n",
            "Epoch 7/100\n",
            "106/106 [==============================] - 1s 5ms/step - loss: 1.3811 - accuracy: 0.7643 - val_loss: 1.3441 - val_accuracy: 0.7540\n",
            "Epoch 8/100\n",
            "106/106 [==============================] - 1s 5ms/step - loss: 1.2833 - accuracy: 0.7772 - val_loss: 1.2519 - val_accuracy: 0.7788\n",
            "Epoch 9/100\n",
            "106/106 [==============================] - 0s 4ms/step - loss: 1.1970 - accuracy: 0.7898 - val_loss: 1.1725 - val_accuracy: 0.7845\n",
            "Epoch 10/100\n",
            "106/106 [==============================] - 0s 4ms/step - loss: 1.1213 - accuracy: 0.7985 - val_loss: 1.1010 - val_accuracy: 0.7965\n",
            "Epoch 11/100\n",
            "106/106 [==============================] - 0s 5ms/step - loss: 1.0551 - accuracy: 0.8054 - val_loss: 1.0391 - val_accuracy: 0.8022\n",
            "Epoch 12/100\n",
            "106/106 [==============================] - 1s 5ms/step - loss: 0.9970 - accuracy: 0.8125 - val_loss: 0.9845 - val_accuracy: 0.8110\n",
            "Epoch 13/100\n",
            "106/106 [==============================] - 0s 5ms/step - loss: 0.9461 - accuracy: 0.8185 - val_loss: 0.9367 - val_accuracy: 0.8172\n",
            "Epoch 14/100\n",
            "106/106 [==============================] - 1s 5ms/step - loss: 0.9012 - accuracy: 0.8235 - val_loss: 0.8945 - val_accuracy: 0.8255\n",
            "Epoch 15/100\n",
            "106/106 [==============================] - 1s 5ms/step - loss: 0.8615 - accuracy: 0.8287 - val_loss: 0.8572 - val_accuracy: 0.8293\n",
            "Epoch 16/100\n",
            "106/106 [==============================] - 0s 5ms/step - loss: 0.8261 - accuracy: 0.8329 - val_loss: 0.8244 - val_accuracy: 0.8325\n",
            "Epoch 17/100\n",
            "106/106 [==============================] - 0s 4ms/step - loss: 0.7947 - accuracy: 0.8369 - val_loss: 0.7943 - val_accuracy: 0.8375\n",
            "Epoch 18/100\n",
            "106/106 [==============================] - 0s 4ms/step - loss: 0.7663 - accuracy: 0.8410 - val_loss: 0.7670 - val_accuracy: 0.8440\n",
            "Epoch 19/100\n",
            "106/106 [==============================] - 0s 4ms/step - loss: 0.7409 - accuracy: 0.8435 - val_loss: 0.7419 - val_accuracy: 0.8488\n",
            "Epoch 20/100\n",
            "106/106 [==============================] - 0s 4ms/step - loss: 0.7178 - accuracy: 0.8468 - val_loss: 0.7204 - val_accuracy: 0.8477\n",
            "Epoch 21/100\n",
            "106/106 [==============================] - 0s 5ms/step - loss: 0.6969 - accuracy: 0.8489 - val_loss: 0.6998 - val_accuracy: 0.8517\n",
            "Epoch 22/100\n",
            "106/106 [==============================] - 0s 4ms/step - loss: 0.6778 - accuracy: 0.8510 - val_loss: 0.6815 - val_accuracy: 0.8527\n",
            "Epoch 23/100\n",
            "106/106 [==============================] - 0s 5ms/step - loss: 0.6604 - accuracy: 0.8538 - val_loss: 0.6647 - val_accuracy: 0.8592\n",
            "Epoch 24/100\n",
            "106/106 [==============================] - 0s 4ms/step - loss: 0.6443 - accuracy: 0.8560 - val_loss: 0.6497 - val_accuracy: 0.8572\n",
            "Epoch 25/100\n",
            "106/106 [==============================] - 1s 6ms/step - loss: 0.6295 - accuracy: 0.8576 - val_loss: 0.6349 - val_accuracy: 0.8595\n",
            "Epoch 26/100\n",
            "106/106 [==============================] - 1s 6ms/step - loss: 0.6158 - accuracy: 0.8597 - val_loss: 0.6217 - val_accuracy: 0.8618\n",
            "Epoch 27/100\n",
            "106/106 [==============================] - 1s 6ms/step - loss: 0.6031 - accuracy: 0.8617 - val_loss: 0.6091 - val_accuracy: 0.8630\n",
            "Epoch 28/100\n",
            "106/106 [==============================] - 1s 5ms/step - loss: 0.5913 - accuracy: 0.8634 - val_loss: 0.5973 - val_accuracy: 0.8648\n",
            "Epoch 29/100\n",
            "106/106 [==============================] - 1s 6ms/step - loss: 0.5803 - accuracy: 0.8646 - val_loss: 0.5871 - val_accuracy: 0.8660\n",
            "Epoch 30/100\n",
            "106/106 [==============================] - 1s 6ms/step - loss: 0.5700 - accuracy: 0.8659 - val_loss: 0.5767 - val_accuracy: 0.8663\n",
            "Epoch 31/100\n",
            "106/106 [==============================] - 1s 5ms/step - loss: 0.5604 - accuracy: 0.8676 - val_loss: 0.5679 - val_accuracy: 0.8668\n",
            "Epoch 32/100\n",
            "106/106 [==============================] - 0s 5ms/step - loss: 0.5514 - accuracy: 0.8689 - val_loss: 0.5588 - val_accuracy: 0.8705\n",
            "Epoch 33/100\n",
            "106/106 [==============================] - 1s 5ms/step - loss: 0.5429 - accuracy: 0.8697 - val_loss: 0.5507 - val_accuracy: 0.8710\n",
            "Epoch 34/100\n",
            "106/106 [==============================] - 0s 5ms/step - loss: 0.5349 - accuracy: 0.8709 - val_loss: 0.5430 - val_accuracy: 0.8712\n",
            "Epoch 35/100\n",
            "106/106 [==============================] - 1s 5ms/step - loss: 0.5274 - accuracy: 0.8717 - val_loss: 0.5354 - val_accuracy: 0.8747\n",
            "Epoch 36/100\n",
            "106/106 [==============================] - 0s 4ms/step - loss: 0.5203 - accuracy: 0.8728 - val_loss: 0.5285 - val_accuracy: 0.8743\n",
            "Epoch 37/100\n",
            "106/106 [==============================] - 1s 5ms/step - loss: 0.5136 - accuracy: 0.8736 - val_loss: 0.5218 - val_accuracy: 0.8753\n",
            "Epoch 38/100\n",
            "106/106 [==============================] - 0s 4ms/step - loss: 0.5072 - accuracy: 0.8751 - val_loss: 0.5158 - val_accuracy: 0.8772\n",
            "Epoch 39/100\n",
            "106/106 [==============================] - 1s 5ms/step - loss: 0.5011 - accuracy: 0.8760 - val_loss: 0.5097 - val_accuracy: 0.8775\n",
            "Epoch 40/100\n",
            "106/106 [==============================] - 0s 4ms/step - loss: 0.4954 - accuracy: 0.8770 - val_loss: 0.5041 - val_accuracy: 0.8775\n",
            "Epoch 41/100\n",
            "106/106 [==============================] - 0s 5ms/step - loss: 0.4899 - accuracy: 0.8775 - val_loss: 0.4991 - val_accuracy: 0.8802\n",
            "Epoch 42/100\n",
            "106/106 [==============================] - 0s 5ms/step - loss: 0.4847 - accuracy: 0.8786 - val_loss: 0.4936 - val_accuracy: 0.8800\n",
            "Epoch 43/100\n",
            "106/106 [==============================] - 0s 5ms/step - loss: 0.4797 - accuracy: 0.8793 - val_loss: 0.4886 - val_accuracy: 0.8803\n",
            "Epoch 44/100\n",
            "106/106 [==============================] - 1s 5ms/step - loss: 0.4750 - accuracy: 0.8798 - val_loss: 0.4843 - val_accuracy: 0.8812\n",
            "Epoch 45/100\n",
            "106/106 [==============================] - 1s 5ms/step - loss: 0.4705 - accuracy: 0.8805 - val_loss: 0.4799 - val_accuracy: 0.8827\n",
            "Epoch 46/100\n",
            "106/106 [==============================] - 0s 4ms/step - loss: 0.4662 - accuracy: 0.8809 - val_loss: 0.4754 - val_accuracy: 0.8825\n",
            "Epoch 47/100\n",
            "106/106 [==============================] - 1s 5ms/step - loss: 0.4620 - accuracy: 0.8817 - val_loss: 0.4711 - val_accuracy: 0.8827\n",
            "Epoch 48/100\n",
            "106/106 [==============================] - 1s 6ms/step - loss: 0.4581 - accuracy: 0.8821 - val_loss: 0.4680 - val_accuracy: 0.8833\n",
            "Epoch 49/100\n",
            "106/106 [==============================] - 1s 5ms/step - loss: 0.4543 - accuracy: 0.8829 - val_loss: 0.4639 - val_accuracy: 0.8830\n",
            "Epoch 50/100\n",
            "106/106 [==============================] - 0s 5ms/step - loss: 0.4507 - accuracy: 0.8835 - val_loss: 0.4601 - val_accuracy: 0.8840\n",
            "Epoch 51/100\n",
            "106/106 [==============================] - 1s 6ms/step - loss: 0.4472 - accuracy: 0.8844 - val_loss: 0.4567 - val_accuracy: 0.8840\n",
            "Epoch 52/100\n",
            "106/106 [==============================] - 1s 6ms/step - loss: 0.4438 - accuracy: 0.8845 - val_loss: 0.4535 - val_accuracy: 0.8843\n",
            "Epoch 53/100\n",
            "106/106 [==============================] - 1s 6ms/step - loss: 0.4406 - accuracy: 0.8852 - val_loss: 0.4504 - val_accuracy: 0.8845\n",
            "Epoch 54/100\n",
            "106/106 [==============================] - 1s 6ms/step - loss: 0.4374 - accuracy: 0.8857 - val_loss: 0.4472 - val_accuracy: 0.8852\n",
            "Epoch 55/100\n",
            "106/106 [==============================] - 1s 6ms/step - loss: 0.4344 - accuracy: 0.8861 - val_loss: 0.4444 - val_accuracy: 0.8847\n",
            "Epoch 56/100\n",
            "106/106 [==============================] - 1s 6ms/step - loss: 0.4315 - accuracy: 0.8865 - val_loss: 0.4414 - val_accuracy: 0.8857\n",
            "Epoch 57/100\n",
            "106/106 [==============================] - 0s 5ms/step - loss: 0.4287 - accuracy: 0.8870 - val_loss: 0.4385 - val_accuracy: 0.8862\n",
            "Epoch 58/100\n",
            "106/106 [==============================] - 1s 5ms/step - loss: 0.4260 - accuracy: 0.8872 - val_loss: 0.4364 - val_accuracy: 0.8867\n",
            "Epoch 59/100\n",
            "106/106 [==============================] - 0s 5ms/step - loss: 0.4234 - accuracy: 0.8878 - val_loss: 0.4331 - val_accuracy: 0.8877\n",
            "Epoch 60/100\n",
            "106/106 [==============================] - 1s 5ms/step - loss: 0.4209 - accuracy: 0.8880 - val_loss: 0.4311 - val_accuracy: 0.8875\n",
            "Epoch 61/100\n",
            "106/106 [==============================] - 1s 5ms/step - loss: 0.4184 - accuracy: 0.8884 - val_loss: 0.4292 - val_accuracy: 0.8875\n",
            "Epoch 62/100\n",
            "106/106 [==============================] - 0s 4ms/step - loss: 0.4161 - accuracy: 0.8889 - val_loss: 0.4263 - val_accuracy: 0.8880\n",
            "Epoch 63/100\n",
            "106/106 [==============================] - 1s 5ms/step - loss: 0.4138 - accuracy: 0.8895 - val_loss: 0.4241 - val_accuracy: 0.8887\n",
            "Epoch 64/100\n",
            "106/106 [==============================] - 0s 4ms/step - loss: 0.4116 - accuracy: 0.8898 - val_loss: 0.4219 - val_accuracy: 0.8887\n",
            "Epoch 65/100\n",
            "106/106 [==============================] - 0s 5ms/step - loss: 0.4095 - accuracy: 0.8904 - val_loss: 0.4195 - val_accuracy: 0.8888\n",
            "Epoch 66/100\n",
            "106/106 [==============================] - 1s 5ms/step - loss: 0.4073 - accuracy: 0.8906 - val_loss: 0.4176 - val_accuracy: 0.8893\n",
            "Epoch 67/100\n",
            "106/106 [==============================] - 1s 5ms/step - loss: 0.4053 - accuracy: 0.8908 - val_loss: 0.4156 - val_accuracy: 0.8890\n",
            "Epoch 68/100\n",
            "106/106 [==============================] - 0s 5ms/step - loss: 0.4033 - accuracy: 0.8914 - val_loss: 0.4142 - val_accuracy: 0.8893\n",
            "Epoch 69/100\n",
            "106/106 [==============================] - 1s 5ms/step - loss: 0.4014 - accuracy: 0.8915 - val_loss: 0.4118 - val_accuracy: 0.8908\n",
            "Epoch 70/100\n",
            "106/106 [==============================] - 0s 5ms/step - loss: 0.3995 - accuracy: 0.8919 - val_loss: 0.4099 - val_accuracy: 0.8905\n",
            "Epoch 71/100\n",
            "106/106 [==============================] - 1s 5ms/step - loss: 0.3978 - accuracy: 0.8924 - val_loss: 0.4082 - val_accuracy: 0.8902\n",
            "Epoch 72/100\n",
            "106/106 [==============================] - 0s 5ms/step - loss: 0.3960 - accuracy: 0.8925 - val_loss: 0.4064 - val_accuracy: 0.8917\n",
            "Epoch 73/100\n",
            "106/106 [==============================] - 1s 5ms/step - loss: 0.3944 - accuracy: 0.8931 - val_loss: 0.4045 - val_accuracy: 0.8922\n",
            "Epoch 74/100\n",
            "106/106 [==============================] - 1s 5ms/step - loss: 0.3927 - accuracy: 0.8932 - val_loss: 0.4033 - val_accuracy: 0.8915\n",
            "Epoch 75/100\n",
            "106/106 [==============================] - 0s 5ms/step - loss: 0.3910 - accuracy: 0.8935 - val_loss: 0.4013 - val_accuracy: 0.8917\n",
            "Epoch 76/100\n",
            "106/106 [==============================] - 1s 6ms/step - loss: 0.3894 - accuracy: 0.8938 - val_loss: 0.4000 - val_accuracy: 0.8927\n",
            "Epoch 77/100\n",
            "106/106 [==============================] - 1s 6ms/step - loss: 0.3879 - accuracy: 0.8939 - val_loss: 0.3985 - val_accuracy: 0.8925\n",
            "Epoch 78/100\n",
            "106/106 [==============================] - 1s 6ms/step - loss: 0.3864 - accuracy: 0.8943 - val_loss: 0.3969 - val_accuracy: 0.8920\n",
            "Epoch 79/100\n",
            "106/106 [==============================] - 1s 6ms/step - loss: 0.3850 - accuracy: 0.8945 - val_loss: 0.3956 - val_accuracy: 0.8937\n",
            "Epoch 80/100\n",
            "106/106 [==============================] - 1s 6ms/step - loss: 0.3835 - accuracy: 0.8948 - val_loss: 0.3941 - val_accuracy: 0.8932\n",
            "Epoch 81/100\n",
            "106/106 [==============================] - 1s 6ms/step - loss: 0.3821 - accuracy: 0.8950 - val_loss: 0.3927 - val_accuracy: 0.8930\n",
            "Epoch 82/100\n",
            "106/106 [==============================] - 1s 5ms/step - loss: 0.3808 - accuracy: 0.8952 - val_loss: 0.3911 - val_accuracy: 0.8927\n",
            "Epoch 83/100\n",
            "106/106 [==============================] - 1s 5ms/step - loss: 0.3794 - accuracy: 0.8952 - val_loss: 0.3901 - val_accuracy: 0.8935\n",
            "Epoch 84/100\n",
            "106/106 [==============================] - 0s 5ms/step - loss: 0.3781 - accuracy: 0.8957 - val_loss: 0.3886 - val_accuracy: 0.8943\n",
            "Epoch 85/100\n",
            "106/106 [==============================] - 1s 5ms/step - loss: 0.3768 - accuracy: 0.8960 - val_loss: 0.3876 - val_accuracy: 0.8942\n",
            "Epoch 86/100\n",
            "106/106 [==============================] - 0s 5ms/step - loss: 0.3756 - accuracy: 0.8961 - val_loss: 0.3863 - val_accuracy: 0.8950\n",
            "Epoch 87/100\n",
            "106/106 [==============================] - 1s 5ms/step - loss: 0.3744 - accuracy: 0.8968 - val_loss: 0.3851 - val_accuracy: 0.8948\n",
            "Epoch 88/100\n",
            "106/106 [==============================] - 1s 5ms/step - loss: 0.3732 - accuracy: 0.8969 - val_loss: 0.3836 - val_accuracy: 0.8955\n",
            "Epoch 89/100\n",
            "106/106 [==============================] - 1s 5ms/step - loss: 0.3720 - accuracy: 0.8970 - val_loss: 0.3826 - val_accuracy: 0.8953\n",
            "Epoch 90/100\n",
            "106/106 [==============================] - 0s 5ms/step - loss: 0.3709 - accuracy: 0.8971 - val_loss: 0.3814 - val_accuracy: 0.8962\n",
            "Epoch 91/100\n",
            "106/106 [==============================] - 1s 5ms/step - loss: 0.3698 - accuracy: 0.8976 - val_loss: 0.3806 - val_accuracy: 0.8950\n",
            "Epoch 92/100\n",
            "106/106 [==============================] - 0s 4ms/step - loss: 0.3687 - accuracy: 0.8979 - val_loss: 0.3793 - val_accuracy: 0.8962\n",
            "Epoch 93/100\n",
            "106/106 [==============================] - 0s 5ms/step - loss: 0.3677 - accuracy: 0.8977 - val_loss: 0.3781 - val_accuracy: 0.8962\n",
            "Epoch 94/100\n",
            "106/106 [==============================] - 1s 5ms/step - loss: 0.3666 - accuracy: 0.8980 - val_loss: 0.3771 - val_accuracy: 0.8975\n",
            "Epoch 95/100\n",
            "106/106 [==============================] - 1s 5ms/step - loss: 0.3656 - accuracy: 0.8979 - val_loss: 0.3760 - val_accuracy: 0.8967\n",
            "Epoch 96/100\n",
            "106/106 [==============================] - 0s 4ms/step - loss: 0.3646 - accuracy: 0.8985 - val_loss: 0.3750 - val_accuracy: 0.8975\n",
            "Epoch 97/100\n",
            "106/106 [==============================] - 1s 5ms/step - loss: 0.3636 - accuracy: 0.8986 - val_loss: 0.3742 - val_accuracy: 0.8972\n",
            "Epoch 98/100\n",
            "106/106 [==============================] - 1s 5ms/step - loss: 0.3626 - accuracy: 0.8989 - val_loss: 0.3733 - val_accuracy: 0.8975\n",
            "Epoch 99/100\n",
            "106/106 [==============================] - 0s 5ms/step - loss: 0.3616 - accuracy: 0.8990 - val_loss: 0.3722 - val_accuracy: 0.8987\n",
            "Epoch 100/100\n",
            "106/106 [==============================] - 1s 5ms/step - loss: 0.3607 - accuracy: 0.8989 - val_loss: 0.3714 - val_accuracy: 0.8977\n"
          ]
        }
      ]
    },
    {
      "cell_type": "code",
      "source": [
        "print(model_5.summary())\n",
        "H_5 = model_5.fit(X_train, y_train, validation_split=0.1, epochs=100, batch_size = 512)"
      ],
      "metadata": {
        "id": "X3WdQE4nKS_0",
        "colab": {
          "base_uri": "https://localhost:8080/"
        },
        "outputId": "3483b33e-da01-4181-cbf3-3044704569e3"
      },
      "execution_count": null,
      "outputs": [
        {
          "output_type": "stream",
          "name": "stdout",
          "text": [
            "Model: \"sequential_13\"\n",
            "_________________________________________________________________\n",
            " Layer (type)                Output Shape              Param #   \n",
            "=================================================================\n",
            " dense_24 (Dense)            (None, 1000)              785000    \n",
            "                                                                 \n",
            " dense_25 (Dense)            (None, 10)                10010     \n",
            "                                                                 \n",
            "=================================================================\n",
            "Total params: 795010 (3.03 MB)\n",
            "Trainable params: 795010 (3.03 MB)\n",
            "Non-trainable params: 0 (0.00 Byte)\n",
            "_________________________________________________________________\n",
            "None\n",
            "Epoch 1/100\n",
            "106/106 [==============================] - 1s 7ms/step - loss: 2.2092 - accuracy: 0.3439 - val_loss: 2.1067 - val_accuracy: 0.4565\n",
            "Epoch 2/100\n",
            "106/106 [==============================] - 1s 5ms/step - loss: 2.0064 - accuracy: 0.6123 - val_loss: 1.9238 - val_accuracy: 0.6783\n",
            "Epoch 3/100\n",
            "106/106 [==============================] - 1s 6ms/step - loss: 1.8294 - accuracy: 0.6898 - val_loss: 1.7574 - val_accuracy: 0.6948\n",
            "Epoch 4/100\n",
            "106/106 [==============================] - 1s 6ms/step - loss: 1.6703 - accuracy: 0.7236 - val_loss: 1.6091 - val_accuracy: 0.7327\n",
            "Epoch 5/100\n",
            "106/106 [==============================] - 1s 6ms/step - loss: 1.5280 - accuracy: 0.7492 - val_loss: 1.4769 - val_accuracy: 0.7350\n",
            "Epoch 6/100\n",
            "106/106 [==============================] - 1s 7ms/step - loss: 1.4025 - accuracy: 0.7660 - val_loss: 1.3613 - val_accuracy: 0.7598\n",
            "Epoch 7/100\n",
            "106/106 [==============================] - 1s 6ms/step - loss: 1.2931 - accuracy: 0.7804 - val_loss: 1.2586 - val_accuracy: 0.7735\n",
            "Epoch 8/100\n",
            "106/106 [==============================] - 1s 5ms/step - loss: 1.1983 - accuracy: 0.7926 - val_loss: 1.1708 - val_accuracy: 0.7895\n",
            "Epoch 9/100\n",
            "106/106 [==============================] - 1s 5ms/step - loss: 1.1160 - accuracy: 0.8026 - val_loss: 1.0951 - val_accuracy: 0.7982\n",
            "Epoch 10/100\n",
            "106/106 [==============================] - 1s 6ms/step - loss: 1.0450 - accuracy: 0.8096 - val_loss: 1.0298 - val_accuracy: 0.8027\n",
            "Epoch 11/100\n",
            "106/106 [==============================] - 1s 5ms/step - loss: 0.9837 - accuracy: 0.8161 - val_loss: 0.9725 - val_accuracy: 0.8120\n",
            "Epoch 12/100\n",
            "106/106 [==============================] - 1s 5ms/step - loss: 0.9303 - accuracy: 0.8216 - val_loss: 0.9225 - val_accuracy: 0.8240\n",
            "Epoch 13/100\n",
            "106/106 [==============================] - 1s 5ms/step - loss: 0.8839 - accuracy: 0.8278 - val_loss: 0.8793 - val_accuracy: 0.8253\n",
            "Epoch 14/100\n",
            "106/106 [==============================] - 0s 5ms/step - loss: 0.8432 - accuracy: 0.8314 - val_loss: 0.8417 - val_accuracy: 0.8312\n",
            "Epoch 15/100\n",
            "106/106 [==============================] - 1s 5ms/step - loss: 0.8074 - accuracy: 0.8360 - val_loss: 0.8078 - val_accuracy: 0.8348\n",
            "Epoch 16/100\n",
            "106/106 [==============================] - 1s 5ms/step - loss: 0.7756 - accuracy: 0.8394 - val_loss: 0.7763 - val_accuracy: 0.8397\n",
            "Epoch 17/100\n",
            "106/106 [==============================] - 0s 5ms/step - loss: 0.7472 - accuracy: 0.8425 - val_loss: 0.7483 - val_accuracy: 0.8438\n",
            "Epoch 18/100\n",
            "106/106 [==============================] - 1s 5ms/step - loss: 0.7219 - accuracy: 0.8462 - val_loss: 0.7252 - val_accuracy: 0.8452\n",
            "Epoch 19/100\n",
            "106/106 [==============================] - 1s 5ms/step - loss: 0.6991 - accuracy: 0.8489 - val_loss: 0.7031 - val_accuracy: 0.8487\n",
            "Epoch 20/100\n",
            "106/106 [==============================] - 1s 5ms/step - loss: 0.6785 - accuracy: 0.8508 - val_loss: 0.6827 - val_accuracy: 0.8508\n",
            "Epoch 21/100\n",
            "106/106 [==============================] - 1s 5ms/step - loss: 0.6599 - accuracy: 0.8531 - val_loss: 0.6648 - val_accuracy: 0.8525\n",
            "Epoch 22/100\n",
            "106/106 [==============================] - 1s 5ms/step - loss: 0.6427 - accuracy: 0.8551 - val_loss: 0.6483 - val_accuracy: 0.8567\n",
            "Epoch 23/100\n",
            "106/106 [==============================] - 1s 5ms/step - loss: 0.6270 - accuracy: 0.8566 - val_loss: 0.6338 - val_accuracy: 0.8552\n",
            "Epoch 24/100\n",
            "106/106 [==============================] - 0s 5ms/step - loss: 0.6126 - accuracy: 0.8586 - val_loss: 0.6205 - val_accuracy: 0.8575\n",
            "Epoch 25/100\n",
            "106/106 [==============================] - 1s 5ms/step - loss: 0.5995 - accuracy: 0.8609 - val_loss: 0.6067 - val_accuracy: 0.8620\n",
            "Epoch 26/100\n",
            "106/106 [==============================] - 1s 5ms/step - loss: 0.5872 - accuracy: 0.8623 - val_loss: 0.5951 - val_accuracy: 0.8623\n",
            "Epoch 27/100\n",
            "106/106 [==============================] - 1s 6ms/step - loss: 0.5759 - accuracy: 0.8632 - val_loss: 0.5844 - val_accuracy: 0.8623\n",
            "Epoch 28/100\n",
            "106/106 [==============================] - 1s 6ms/step - loss: 0.5654 - accuracy: 0.8653 - val_loss: 0.5742 - val_accuracy: 0.8650\n",
            "Epoch 29/100\n",
            "106/106 [==============================] - 1s 6ms/step - loss: 0.5555 - accuracy: 0.8663 - val_loss: 0.5647 - val_accuracy: 0.8650\n",
            "Epoch 30/100\n",
            "106/106 [==============================] - 1s 6ms/step - loss: 0.5463 - accuracy: 0.8674 - val_loss: 0.5556 - val_accuracy: 0.8685\n",
            "Epoch 31/100\n",
            "106/106 [==============================] - 1s 6ms/step - loss: 0.5378 - accuracy: 0.8689 - val_loss: 0.5469 - val_accuracy: 0.8690\n",
            "Epoch 32/100\n",
            "106/106 [==============================] - 1s 6ms/step - loss: 0.5298 - accuracy: 0.8695 - val_loss: 0.5389 - val_accuracy: 0.8723\n",
            "Epoch 33/100\n",
            "106/106 [==============================] - 1s 5ms/step - loss: 0.5221 - accuracy: 0.8707 - val_loss: 0.5322 - val_accuracy: 0.8723\n",
            "Epoch 34/100\n",
            "106/106 [==============================] - 1s 5ms/step - loss: 0.5151 - accuracy: 0.8720 - val_loss: 0.5246 - val_accuracy: 0.8735\n",
            "Epoch 35/100\n",
            "106/106 [==============================] - 1s 5ms/step - loss: 0.5084 - accuracy: 0.8726 - val_loss: 0.5178 - val_accuracy: 0.8750\n",
            "Epoch 36/100\n",
            "106/106 [==============================] - 1s 5ms/step - loss: 0.5020 - accuracy: 0.8737 - val_loss: 0.5125 - val_accuracy: 0.8755\n",
            "Epoch 37/100\n",
            "106/106 [==============================] - 1s 5ms/step - loss: 0.4960 - accuracy: 0.8749 - val_loss: 0.5061 - val_accuracy: 0.8772\n",
            "Epoch 38/100\n",
            "106/106 [==============================] - 1s 5ms/step - loss: 0.4903 - accuracy: 0.8762 - val_loss: 0.5002 - val_accuracy: 0.8768\n",
            "Epoch 39/100\n",
            "106/106 [==============================] - 1s 5ms/step - loss: 0.4849 - accuracy: 0.8764 - val_loss: 0.4955 - val_accuracy: 0.8787\n",
            "Epoch 40/100\n",
            "106/106 [==============================] - 1s 5ms/step - loss: 0.4797 - accuracy: 0.8776 - val_loss: 0.4914 - val_accuracy: 0.8788\n",
            "Epoch 41/100\n",
            "106/106 [==============================] - 1s 5ms/step - loss: 0.4748 - accuracy: 0.8777 - val_loss: 0.4852 - val_accuracy: 0.8808\n",
            "Epoch 42/100\n",
            "106/106 [==============================] - 1s 5ms/step - loss: 0.4701 - accuracy: 0.8785 - val_loss: 0.4813 - val_accuracy: 0.8807\n",
            "Epoch 43/100\n",
            "106/106 [==============================] - 1s 5ms/step - loss: 0.4658 - accuracy: 0.8796 - val_loss: 0.4768 - val_accuracy: 0.8822\n",
            "Epoch 44/100\n",
            "106/106 [==============================] - 1s 5ms/step - loss: 0.4615 - accuracy: 0.8801 - val_loss: 0.4723 - val_accuracy: 0.8827\n",
            "Epoch 45/100\n",
            "106/106 [==============================] - 1s 5ms/step - loss: 0.4574 - accuracy: 0.8810 - val_loss: 0.4689 - val_accuracy: 0.8817\n",
            "Epoch 46/100\n",
            "106/106 [==============================] - 1s 5ms/step - loss: 0.4535 - accuracy: 0.8816 - val_loss: 0.4645 - val_accuracy: 0.8827\n",
            "Epoch 47/100\n",
            "106/106 [==============================] - 1s 5ms/step - loss: 0.4498 - accuracy: 0.8821 - val_loss: 0.4608 - val_accuracy: 0.8838\n",
            "Epoch 48/100\n",
            "106/106 [==============================] - 1s 5ms/step - loss: 0.4462 - accuracy: 0.8824 - val_loss: 0.4571 - val_accuracy: 0.8843\n",
            "Epoch 49/100\n",
            "106/106 [==============================] - 1s 5ms/step - loss: 0.4429 - accuracy: 0.8836 - val_loss: 0.4536 - val_accuracy: 0.8843\n",
            "Epoch 50/100\n",
            "106/106 [==============================] - 1s 5ms/step - loss: 0.4396 - accuracy: 0.8842 - val_loss: 0.4509 - val_accuracy: 0.8860\n",
            "Epoch 51/100\n",
            "106/106 [==============================] - 1s 5ms/step - loss: 0.4364 - accuracy: 0.8847 - val_loss: 0.4476 - val_accuracy: 0.8848\n",
            "Epoch 52/100\n",
            "106/106 [==============================] - 1s 7ms/step - loss: 0.4334 - accuracy: 0.8850 - val_loss: 0.4442 - val_accuracy: 0.8857\n",
            "Epoch 53/100\n",
            "106/106 [==============================] - 1s 6ms/step - loss: 0.4304 - accuracy: 0.8857 - val_loss: 0.4415 - val_accuracy: 0.8857\n",
            "Epoch 54/100\n",
            "106/106 [==============================] - 1s 6ms/step - loss: 0.4277 - accuracy: 0.8860 - val_loss: 0.4387 - val_accuracy: 0.8862\n",
            "Epoch 55/100\n",
            "106/106 [==============================] - 1s 6ms/step - loss: 0.4249 - accuracy: 0.8867 - val_loss: 0.4363 - val_accuracy: 0.8877\n",
            "Epoch 56/100\n",
            "106/106 [==============================] - 1s 6ms/step - loss: 0.4223 - accuracy: 0.8870 - val_loss: 0.4340 - val_accuracy: 0.8883\n",
            "Epoch 57/100\n",
            "106/106 [==============================] - 1s 6ms/step - loss: 0.4197 - accuracy: 0.8870 - val_loss: 0.4310 - val_accuracy: 0.8878\n",
            "Epoch 58/100\n",
            "106/106 [==============================] - 1s 5ms/step - loss: 0.4174 - accuracy: 0.8877 - val_loss: 0.4286 - val_accuracy: 0.8897\n",
            "Epoch 59/100\n",
            "106/106 [==============================] - 1s 5ms/step - loss: 0.4150 - accuracy: 0.8879 - val_loss: 0.4274 - val_accuracy: 0.8902\n",
            "Epoch 60/100\n",
            "106/106 [==============================] - 1s 5ms/step - loss: 0.4127 - accuracy: 0.8886 - val_loss: 0.4241 - val_accuracy: 0.8882\n",
            "Epoch 61/100\n",
            "106/106 [==============================] - 1s 5ms/step - loss: 0.4104 - accuracy: 0.8892 - val_loss: 0.4217 - val_accuracy: 0.8893\n",
            "Epoch 62/100\n",
            "106/106 [==============================] - 1s 5ms/step - loss: 0.4083 - accuracy: 0.8892 - val_loss: 0.4200 - val_accuracy: 0.8883\n",
            "Epoch 63/100\n",
            "106/106 [==============================] - 1s 5ms/step - loss: 0.4063 - accuracy: 0.8896 - val_loss: 0.4179 - val_accuracy: 0.8890\n",
            "Epoch 64/100\n",
            "106/106 [==============================] - 1s 5ms/step - loss: 0.4042 - accuracy: 0.8899 - val_loss: 0.4160 - val_accuracy: 0.8908\n",
            "Epoch 65/100\n",
            "106/106 [==============================] - 1s 5ms/step - loss: 0.4023 - accuracy: 0.8906 - val_loss: 0.4138 - val_accuracy: 0.8903\n",
            "Epoch 66/100\n",
            "106/106 [==============================] - 1s 5ms/step - loss: 0.4004 - accuracy: 0.8905 - val_loss: 0.4117 - val_accuracy: 0.8915\n",
            "Epoch 67/100\n",
            "106/106 [==============================] - 0s 5ms/step - loss: 0.3985 - accuracy: 0.8911 - val_loss: 0.4098 - val_accuracy: 0.8902\n",
            "Epoch 68/100\n",
            "106/106 [==============================] - 1s 5ms/step - loss: 0.3968 - accuracy: 0.8913 - val_loss: 0.4082 - val_accuracy: 0.8903\n",
            "Epoch 69/100\n",
            "106/106 [==============================] - 0s 5ms/step - loss: 0.3950 - accuracy: 0.8916 - val_loss: 0.4069 - val_accuracy: 0.8922\n",
            "Epoch 70/100\n",
            "106/106 [==============================] - 1s 5ms/step - loss: 0.3933 - accuracy: 0.8919 - val_loss: 0.4046 - val_accuracy: 0.8910\n",
            "Epoch 71/100\n",
            "106/106 [==============================] - 1s 5ms/step - loss: 0.3917 - accuracy: 0.8925 - val_loss: 0.4042 - val_accuracy: 0.8935\n",
            "Epoch 72/100\n",
            "106/106 [==============================] - 1s 5ms/step - loss: 0.3901 - accuracy: 0.8928 - val_loss: 0.4025 - val_accuracy: 0.8940\n",
            "Epoch 73/100\n",
            "106/106 [==============================] - 1s 5ms/step - loss: 0.3886 - accuracy: 0.8934 - val_loss: 0.4000 - val_accuracy: 0.8925\n",
            "Epoch 74/100\n",
            "106/106 [==============================] - 1s 5ms/step - loss: 0.3870 - accuracy: 0.8932 - val_loss: 0.3991 - val_accuracy: 0.8940\n",
            "Epoch 75/100\n",
            "106/106 [==============================] - 1s 5ms/step - loss: 0.3855 - accuracy: 0.8936 - val_loss: 0.3974 - val_accuracy: 0.8940\n",
            "Epoch 76/100\n",
            "106/106 [==============================] - 1s 5ms/step - loss: 0.3842 - accuracy: 0.8938 - val_loss: 0.3960 - val_accuracy: 0.8937\n",
            "Epoch 77/100\n",
            "106/106 [==============================] - 1s 6ms/step - loss: 0.3827 - accuracy: 0.8944 - val_loss: 0.3942 - val_accuracy: 0.8933\n",
            "Epoch 78/100\n",
            "106/106 [==============================] - 1s 6ms/step - loss: 0.3812 - accuracy: 0.8945 - val_loss: 0.3931 - val_accuracy: 0.8937\n",
            "Epoch 79/100\n",
            "106/106 [==============================] - 1s 7ms/step - loss: 0.3800 - accuracy: 0.8943 - val_loss: 0.3918 - val_accuracy: 0.8940\n",
            "Epoch 80/100\n",
            "106/106 [==============================] - 1s 6ms/step - loss: 0.3787 - accuracy: 0.8950 - val_loss: 0.3909 - val_accuracy: 0.8928\n",
            "Epoch 81/100\n",
            "106/106 [==============================] - 1s 6ms/step - loss: 0.3774 - accuracy: 0.8952 - val_loss: 0.3890 - val_accuracy: 0.8935\n",
            "Epoch 82/100\n",
            "106/106 [==============================] - 1s 5ms/step - loss: 0.3761 - accuracy: 0.8955 - val_loss: 0.3877 - val_accuracy: 0.8940\n",
            "Epoch 83/100\n",
            "106/106 [==============================] - 1s 5ms/step - loss: 0.3749 - accuracy: 0.8956 - val_loss: 0.3868 - val_accuracy: 0.8947\n",
            "Epoch 84/100\n",
            "106/106 [==============================] - 0s 5ms/step - loss: 0.3738 - accuracy: 0.8962 - val_loss: 0.3849 - val_accuracy: 0.8943\n",
            "Epoch 85/100\n",
            "106/106 [==============================] - 1s 5ms/step - loss: 0.3726 - accuracy: 0.8961 - val_loss: 0.3843 - val_accuracy: 0.8932\n",
            "Epoch 86/100\n",
            "106/106 [==============================] - 1s 5ms/step - loss: 0.3714 - accuracy: 0.8963 - val_loss: 0.3828 - val_accuracy: 0.8957\n",
            "Epoch 87/100\n",
            "106/106 [==============================] - 1s 5ms/step - loss: 0.3704 - accuracy: 0.8965 - val_loss: 0.3816 - val_accuracy: 0.8955\n",
            "Epoch 88/100\n",
            "106/106 [==============================] - 1s 5ms/step - loss: 0.3693 - accuracy: 0.8966 - val_loss: 0.3808 - val_accuracy: 0.8952\n",
            "Epoch 89/100\n",
            "106/106 [==============================] - 1s 5ms/step - loss: 0.3682 - accuracy: 0.8968 - val_loss: 0.3795 - val_accuracy: 0.8963\n",
            "Epoch 90/100\n",
            "106/106 [==============================] - 1s 5ms/step - loss: 0.3672 - accuracy: 0.8969 - val_loss: 0.3786 - val_accuracy: 0.8955\n",
            "Epoch 91/100\n",
            "106/106 [==============================] - 1s 5ms/step - loss: 0.3661 - accuracy: 0.8971 - val_loss: 0.3775 - val_accuracy: 0.8953\n",
            "Epoch 92/100\n",
            "106/106 [==============================] - 1s 5ms/step - loss: 0.3652 - accuracy: 0.8973 - val_loss: 0.3766 - val_accuracy: 0.8955\n",
            "Epoch 93/100\n",
            "106/106 [==============================] - 1s 5ms/step - loss: 0.3642 - accuracy: 0.8976 - val_loss: 0.3756 - val_accuracy: 0.8963\n",
            "Epoch 94/100\n",
            "106/106 [==============================] - 1s 5ms/step - loss: 0.3632 - accuracy: 0.8982 - val_loss: 0.3743 - val_accuracy: 0.8952\n",
            "Epoch 95/100\n",
            "106/106 [==============================] - 0s 5ms/step - loss: 0.3622 - accuracy: 0.8977 - val_loss: 0.3736 - val_accuracy: 0.8957\n",
            "Epoch 96/100\n",
            "106/106 [==============================] - 1s 5ms/step - loss: 0.3613 - accuracy: 0.8982 - val_loss: 0.3726 - val_accuracy: 0.8957\n",
            "Epoch 97/100\n",
            "106/106 [==============================] - 0s 5ms/step - loss: 0.3604 - accuracy: 0.8986 - val_loss: 0.3718 - val_accuracy: 0.8968\n",
            "Epoch 98/100\n",
            "106/106 [==============================] - 0s 5ms/step - loss: 0.3596 - accuracy: 0.8981 - val_loss: 0.3707 - val_accuracy: 0.8972\n",
            "Epoch 99/100\n",
            "106/106 [==============================] - 1s 5ms/step - loss: 0.3586 - accuracy: 0.8988 - val_loss: 0.3700 - val_accuracy: 0.8965\n",
            "Epoch 100/100\n",
            "106/106 [==============================] - 1s 5ms/step - loss: 0.3577 - accuracy: 0.8991 - val_loss: 0.3694 - val_accuracy: 0.8960\n"
          ]
        }
      ]
    },
    {
      "cell_type": "code",
      "source": [
        "# вывод графика ошибки по эпохам\n",
        "plt.plot(H.history['loss'])\n",
        "plt.plot(H.history['val_loss'])\n",
        "plt.grid()\n",
        "plt.xlabel('Epochs')\n",
        "plt.ylabel('loss')\n",
        "plt.legend(['train_loss', 'val_loss'])\n",
        "plt.title('Loss by epochs')\n",
        "plt.show()\n"
      ],
      "metadata": {
        "colab": {
          "base_uri": "https://localhost:8080/",
          "height": 472
        },
        "id": "7jfS0WqlIqX8",
        "outputId": "6bbf91fd-1822-4039-ca3a-b8a9b7117d53"
      },
      "execution_count": null,
      "outputs": [
        {
          "output_type": "display_data",
          "data": {
            "text/plain": [
              "<Figure size 640x480 with 1 Axes>"
            ],
            "image/png": "[encoded data removed]"
          },
          "metadata": {}
        }
      ]
    },
    {
      "cell_type": "code",
      "source": [
        "# вывод графика ошибки по эпохам\n",
        "plt.plot(H_2.history['loss'])\n",
        "plt.plot(H_2.history['val_loss'])\n",
        "plt.grid()\n",
        "plt.xlabel('Epochs')\n",
        "plt.ylabel('loss')\n",
        "plt.legend(['train_loss', 'val_loss'])\n",
        "plt.title('Loss by epochs')\n",
        "plt.show()"
      ],
      "metadata": {
        "id": "iYqJFTz5McxD",
        "colab": {
          "base_uri": "https://localhost:8080/",
          "height": 472
        },
        "outputId": "34ec1829-60b8-4ad0-c4bb-26cf49375538"
      },
      "execution_count": null,
      "outputs": [
        {
          "output_type": "display_data",
          "data": {
            "text/plain": [
              "<Figure size 640x480 with 1 Axes>"
            ],
            "image/png": "[encoded data removed]"
          },
          "metadata": {}
        }
      ]
    },
    {
      "cell_type": "code",
      "source": [
        "# вывод графика ошибки по эпохам\n",
        "plt.plot(H_3.history['loss'])\n",
        "plt.plot(H_3.history['val_loss'])\n",
        "plt.grid()\n",
        "plt.xlabel('Epochs')\n",
        "plt.ylabel('loss')\n",
        "plt.legend(['train_loss', 'val_loss'])\n",
        "plt.title('Loss by epochs')\n",
        "plt.show()"
      ],
      "metadata": {
        "id": "bTE1GpWGM0p8",
        "colab": {
          "base_uri": "https://localhost:8080/",
          "height": 472
        },
        "outputId": "860134ae-23de-4694-86c3-cd03bc2f6d20"
      },
      "execution_count": null,
      "outputs": [
        {
          "output_type": "display_data",
          "data": {
            "text/plain": [
              "<Figure size 640x480 with 1 Axes>"
            ],
            "image/png": "[encoded data removed]"
          },
          "metadata": {}
        }
      ]
    },
    {
      "cell_type": "code",
      "source": [
        "# вывод графика ошибки по эпохам\n",
        "plt.plot(H_4.history['loss'])\n",
        "plt.plot(H_4.history['val_loss'])\n",
        "plt.grid()\n",
        "plt.xlabel('Epochs')\n",
        "plt.ylabel('loss')\n",
        "plt.legend(['train_loss', 'val_loss'])\n",
        "plt.title('Loss by epochs')\n",
        "plt.show()"
      ],
      "metadata": {
        "id": "td3kh2K0M1Ya",
        "colab": {
          "base_uri": "https://localhost:8080/",
          "height": 472
        },
        "outputId": "07ab49d7-6395-446c-f447-26cfd1680f2d"
      },
      "execution_count": null,
      "outputs": [
        {
          "output_type": "display_data",
          "data": {
            "text/plain": [
              "<Figure size 640x480 with 1 Axes>"
            ],
            "image/png": "[encoded data removed]"
          },
          "metadata": {}
        }
      ]
    },
    {
      "cell_type": "code",
      "source": [
        "# вывод графика ошибки по эпохам\n",
        "plt.plot(H_5.history['loss'])\n",
        "plt.plot(H_5.history['val_loss'])\n",
        "plt.grid()\n",
        "plt.xlabel('Epochs')\n",
        "plt.ylabel('loss')\n",
        "plt.legend(['train_loss', 'val_loss'])\n",
        "plt.title('Loss by epochs')\n",
        "plt.show()"
      ],
      "metadata": {
        "id": "TRolugG7M2A6",
        "colab": {
          "base_uri": "https://localhost:8080/",
          "height": 472
        },
        "outputId": "b88f9c33-cbe1-4bb0-896d-0a0bb714f411"
      },
      "execution_count": null,
      "outputs": [
        {
          "output_type": "display_data",
          "data": {
            "text/plain": [
              "<Figure size 640x480 with 1 Axes>"
            ],
            "image/png": "[encoded data removed]"
          },
          "metadata": {}
        }
      ]
    },
    {
      "cell_type": "code",
      "source": [
        "# Оценка качества работы модели на тестовых данных\n",
        "scores_1 = model_1.evaluate(X_test, y_test)\n",
        "print('Loss on test data:', scores_1[0])\n",
        "print('Accuracy on test data:', scores_1[1])\n"
      ],
      "metadata": {
        "colab": {
          "base_uri": "https://localhost:8080/"
        },
        "id": "kleTombNSf8R",
        "outputId": "1a833ddb-1c08-455f-df72-209a912dc677"
      },
      "execution_count": null,
      "outputs": [
        {
          "output_type": "stream",
          "name": "stdout",
          "text": [
            "313/313 [==============================] - 1s 2ms/step - loss: 0.3450 - accuracy: 0.9048\n",
            "Loss on test data: 0.3450338542461395\n",
            "Accuracy on test data: 0.9047999978065491\n"
          ]
        }
      ]
    },
    {
      "cell_type": "code",
      "source": [
        "# Оценка качества работы модели на тестовых данных\n",
        "scores_2 = model_2.evaluate(X_test, y_test)\n",
        "print('Loss on test data:', scores_2[0])\n",
        "print('Accuracy on test data:', scores_2[1])\n"
      ],
      "metadata": {
        "colab": {
          "base_uri": "https://localhost:8080/"
        },
        "id": "JQXE3Z9GSsXT",
        "outputId": "95ff01e8-1589-4c13-9899-9f38ea2bd352"
      },
      "execution_count": null,
      "outputs": [
        {
          "output_type": "stream",
          "name": "stdout",
          "text": [
            "313/313 [==============================] - 1s 4ms/step - loss: 2.5054 - accuracy: 0.1093\n",
            "Loss on test data: 2.50537371635437\n",
            "Accuracy on test data: 0.10930000245571136\n"
          ]
        }
      ]
    },
    {
      "cell_type": "code",
      "source": [
        "# Оценка качества работы модели на тестовых данных\n",
        "scores_4 = model_4.evaluate(X_test, y_test)\n",
        "print('Loss on test data:', scores_4[0])\n",
        "print('Accuracy on test data:', scores_4[1])\n"
      ],
      "metadata": {
        "colab": {
          "base_uri": "https://localhost:8080/"
        },
        "id": "3QcYpKFzS3va",
        "outputId": "f804ece3-7f43-4731-ab19-9da48fdcaf5f"
      },
      "execution_count": null,
      "outputs": [
        {
          "output_type": "stream",
          "name": "stdout",
          "text": [
            "313/313 [==============================] - 1s 4ms/step - loss: 0.3626 - accuracy: 0.8986\n",
            "Loss on test data: 0.3625850975513458\n",
            "Accuracy on test data: 0.8985999822616577\n"
          ]
        }
      ]
    },
    {
      "cell_type": "code",
      "source": [
        "scores_3 = model_3.evaluate(X_test, y_test)\n",
        "print('Loss on test data:', scores_3[0])\n",
        "print('Accuracy on test data:', scores_3[1])\n"
      ],
      "metadata": {
        "colab": {
          "base_uri": "https://localhost:8080/"
        },
        "id": "ey0KV17GS_gR",
        "outputId": "bb8a65bf-490a-46ae-ac0a-c3aab193278d"
      },
      "execution_count": null,
      "outputs": [
        {
          "output_type": "stream",
          "name": "stdout",
          "text": [
            "313/313 [==============================] - 1s 3ms/step - loss: 0.3656 - accuracy: 0.8978\n",
            "Loss on test data: 0.365553081035614\n",
            "Accuracy on test data: 0.8978000283241272\n"
          ]
        }
      ]
    },
    {
      "cell_type": "code",
      "source": [
        "scores_5 = model_5.evaluate(X_test, y_test)\n",
        "print('Loss on test data:', scores_5[0])\n",
        "print('Accuracy on test data:', scores_5[1])\n"
      ],
      "metadata": {
        "colab": {
          "base_uri": "https://localhost:8080/"
        },
        "id": "4m3a5dhyTKOi",
        "outputId": "ed2a0673-0211-4188-cc91-d10e2ec78c83"
      },
      "execution_count": null,
      "outputs": [
        {
          "output_type": "stream",
          "name": "stdout",
          "text": [
            "313/313 [==============================] - 1s 4ms/step - loss: 0.3604 - accuracy: 0.8978\n",
            "Loss on test data: 0.36036133766174316\n",
            "Accuracy on test data: 0.8978000283241272\n"
          ]
        }
      ]
    },
    {
      "cell_type": "markdown",
      "source": [
        "**РЕЗУЛЬТАТЫ ИССЛЕДОВАНИЯ АРХИТЕКТУРЫ НЕЙРОННОЙ СЕТИ**"
      ],
      "metadata": {
        "id": "qjQFIBHuTrEK"
      }
    },
    {
      "cell_type": "code",
      "source": [
        "# сохранение модели на диск, к примеру, в папку best_model\n",
        "# В общем случае может быть указан произвольный путь\n",
        "model_1.save('best_model')"
      ],
      "metadata": {
        "id": "9ZVnjdCYTnSh"
      },
      "execution_count": null,
      "outputs": []
    },
    {
      "cell_type": "code",
      "source": [
        "# Загрузка модели с диска\n",
        "from keras.models import load_model\n",
        "model = load_model('best_model')\n"
      ],
      "metadata": {
        "id": "IIJ0ZPHWTwZB"
      },
      "execution_count": null,
      "outputs": []
    },
    {
      "cell_type": "code",
      "source": [
        "# вывод тестового изображения и результата распознавания\n",
        "n = 3\n",
        "result = model.predict(X_test[n:n+1])\n",
        "print('NN output:', result)\n",
        "plt.imshow(X_test[n].reshape(28,28), cmap=plt.get_cmap('gray'))\n",
        "plt.show()\n",
        "print('Real mark: ', str(np.argmax(y_test[n])))\n",
        "print('NN answer: ', str(np.argmax(result)))\n"
      ],
      "metadata": {
        "colab": {
          "base_uri": "https://localhost:8080/",
          "height": 536
        },
        "id": "BrDTaB8ZW0gA",
        "outputId": "6d6ec6ee-1035-4f86-9b0b-5bd841920f3d"
      },
      "execution_count": null,
      "outputs": [
        {
          "output_type": "stream",
          "name": "stdout",
          "text": [
            "1/1 [==============================] - 0s 19ms/step\n",
            "NN output: [[6.39292557e-05 3.01510454e-07 3.13650072e-03 2.15055692e-07\n",
            "  1.79447997e-02 1.03099865e-05 9.73704815e-01 2.89200070e-05\n",
            "  2.40022270e-03 2.70990818e-03]]\n"
          ]
        },
        {
          "output_type": "display_data",
          "data": {
            "text/plain": [
              "<Figure size 640x480 with 1 Axes>"
            ],
            "image/png": "[encoded data removed]"
          },
          "metadata": {}
        },
        {
          "output_type": "stream",
          "name": "stdout",
          "text": [
            "Real mark:  6\n",
            "NN answer:  6\n"
          ]
        }
      ]
    },
    {
      "cell_type": "code",
      "source": [
        "# загрузка собственного изображения\n",
        "from PIL import Image\n",
        "file_data = Image.open('/content/test.png')\n",
        "file_data = file_data.convert('L') # перевод в градации серого\n",
        "test_img = np.array(file_data)\n"
      ],
      "metadata": {
        "id": "8fBDjmDAXdSB"
      },
      "execution_count": null,
      "outputs": []
    },
    {
      "cell_type": "code",
      "source": [
        "# загрузка собственного изображения\n",
        "from PIL import Image\n",
        "file_data1 = Image.open('/content/test1.png')\n",
        "file_data1 = file_data1.convert('L') # перевод в градации серого\n",
        "test_img1 = np.array(file_data1)"
      ],
      "metadata": {
        "id": "qPifw568Y_dp"
      },
      "execution_count": null,
      "outputs": []
    },
    {
      "cell_type": "markdown",
      "source": [
        "# Новый раздел"
      ],
      "metadata": {
        "id": "m3_JcpD_YYfb"
      }
    },
    {
      "cell_type": "code",
      "source": [
        "# вывод собственного изображения\n",
        "plt.imshow(test_img, cmap=plt.get_cmap('gray'))\n",
        "plt.show()\n",
        "# предобработка\n",
        "test_img = test_img / 255\n",
        "test_img = test_img.reshape(1, num_pixels)\n",
        "# распознавание\n",
        "result = model.predict(test_img)\n",
        "print('I think it\\'s ', np.argmax(result))"
      ],
      "metadata": {
        "id": "XdV7ebnEYDmA",
        "colab": {
          "base_uri": "https://localhost:8080/",
          "height": 102
        },
        "outputId": "250cea9a-def3-4e35-c4b0-0c9a72eae3ba"
      },
      "execution_count": null,
      "outputs": [
        {
          "output_type": "display_data",
          "data": {
            "text/plain": [
              "<Figure size 640x480 with 1 Axes>"
            ],
            "image/png": "[encoded data removed]"
          },
          "metadata": {}
        },
        {
          "output_type": "stream",
          "name": "stdout",
          "text": [
            "1/1 [==============================] - 0s 18ms/step\n",
            "I think it's  5\n"
          ]
        }
      ]
    },
    {
      "cell_type": "code",
      "source": [
        "# вывод собственного изображения\n",
        "plt.imshow(test_img1, cmap=plt.get_cmap('gray'))\n",
        "plt.show()\n",
        "# предобработка\n",
        "test_img1 = test_img1 / 255\n",
        "test_img1 = test_img1.reshape(1, num_pixels)\n",
        "# распознавание\n",
        "result = model.predict(test_img1)\n",
        "print('I think it\\'s ', np.argmax(result))"
      ],
      "metadata": {
        "colab": {
          "base_uri": "https://localhost:8080/",
          "height": 102
        },
        "id": "9eoILC-lZLnX",
        "outputId": "29cd859c-e6d5-4136-cfa4-3f0869c0992a"
      },
      "execution_count": null,
      "outputs": [
        {
          "output_type": "display_data",
          "data": {
            "text/plain": [
              "<Figure size 640x480 with 1 Axes>"
            ],
            "image/png": "[encoded data removed]"
          },
          "metadata": {}
        },
        {
          "output_type": "stream",
          "name": "stdout",
          "text": [
            "1/1 [==============================] - 0s 27ms/step\n",
            "I think it's  5\n"
          ]
        }
      ]
    },
    {
      "cell_type": "code",
      "source": [
        "# загрузка собственного перевернутого изображения\n",
        "from PIL import Image\n",
        "file_data1 = Image.open('/content/test_90.png')\n",
        "file_data1 = file_data1.convert('L') # перевод в градации серого\n",
        "test_img1 = np.array(file_data1)\n",
        "\n",
        "# вывод собственного изображения\n",
        "plt.imshow(test_img1, cmap=plt.get_cmap('gray'))\n",
        "plt.show()\n",
        "# предобработка\n",
        "test_img1 = test_img1 / 255\n",
        "test_img1 = test_img1.reshape(1, num_pixels)\n",
        "# распознавание\n",
        "result = model.predict(test_img1)\n",
        "print('I think it\\'s ', np.argmax(result))"
      ],
      "metadata": {
        "colab": {
          "base_uri": "https://localhost:8080/",
          "height": 466
        },
        "id": "MY2NoKwhctbR",
        "outputId": "8c7d6d1d-3fdb-41fc-f72c-67c5c4248977"
      },
      "execution_count": null,
      "outputs": [
        {
          "output_type": "display_data",
          "data": {
            "text/plain": [
              "<Figure size 640x480 with 1 Axes>"
            ],
            "image/png": "[encoded data removed]"
          },
          "metadata": {}
        },
        {
          "output_type": "stream",
          "name": "stdout",
          "text": [
            "1/1 [==============================] - 0s 25ms/step\n",
            "I think it's  4\n"
          ]
        }
      ]
    },
    {
      "cell_type": "code",
      "source": [
        "# загрузка собственного изображения\n",
        "from PIL import Image\n",
        "file_data = Image.open('/content/test1_90.png')\n",
        "file_data = file_data.convert('L') # перевод в градации серого\n",
        "test_img = np.array(file_data)\n",
        "\n",
        "# вывод собственного изображения\n",
        "plt.imshow(test_img, cmap=plt.get_cmap('gray'))\n",
        "plt.show()\n",
        "# предобработка\n",
        "test_img = test_img / 255\n",
        "test_img = test_img.reshape(1, num_pixels)\n",
        "# распознавание\n",
        "result = model.predict(test_img)\n",
        "print('I think it\\'s ', np.argmax(result))"
      ],
      "metadata": {
        "colab": {
          "base_uri": "https://localhost:8080/",
          "height": 466
        },
        "id": "HpB6j16Lct9J",
        "outputId": "0695f403-01d3-4d63-b8d5-7180e1e09076"
      },
      "execution_count": null,
      "outputs": [
        {
          "output_type": "display_data",
          "data": {
            "text/plain": [
              "<Figure size 640x480 with 1 Axes>"
            ],
            "image/png": "[encoded data removed]"
          },
          "metadata": {}
        },
        {
          "output_type": "stream",
          "name": "stdout",
          "text": [
            "1/1 [==============================] - 0s 21ms/step\n",
            "I think it's  3\n"
          ]
        }
      ]
    },
    {
      "cell_type": "markdown",
      "source": [
        "![image.png](data:image/png;base64,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)"
      ],
      "metadata": {
        "id": "6XL1RxGVd2qB"
      }
    }
  ]
}